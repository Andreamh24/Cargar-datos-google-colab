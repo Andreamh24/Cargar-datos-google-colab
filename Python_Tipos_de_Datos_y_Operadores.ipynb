{
  "nbformat": 4,
  "nbformat_minor": 0,
  "metadata": {
    "colab": {
      "name": "Python_Tipos de Datos y Operadores.ipynb",
      "provenance": [],
      "collapsed_sections": [],
      "include_colab_link": true
    },
    "kernelspec": {
      "display_name": "Python 3",
      "language": "python",
      "name": "python3"
    }
  },
  "cells": [
    {
      "cell_type": "markdown",
      "metadata": {
        "id": "view-in-github",
        "colab_type": "text"
      },
      "source": [
        "<a href=\"https://colab.research.google.com/github/Andreamh24/Cargar-datos-google-colab/blob/master/Python_Tipos_de_Datos_y_Operadores.ipynb\" target=\"_parent\"><img src=\"https://colab.research.google.com/assets/colab-badge.svg\" alt=\"Open In Colab\"/></a>"
      ]
    },
    {
      "cell_type": "markdown",
      "metadata": {
        "id": "raZLdrxQDchV"
      },
      "source": [
        "# Python\n",
        "\n",
        "Python es un *lenguaje* de programación interpretado cuyo diseño está enfocado en tener un código bastante legible y multiplataforma.  Es un lenguaje interpretado de tipado **dinámico**.\n",
        "\n",
        "Soporta orientación a objetos, programación imperativa y programación funcional.\n",
        "\n",
        "**Nota:** Se recomienda revisar otros materiales para profundizar en el lenguaje Python, por ejemplo: [CodeCademy: Learn Python (10 hours)](https://www.codecademy.com/courses/learn-python/lessons/python-syntax/exercises/welcome?action=lesson_resume).\n",
        "\n",
        "Empezaremos revisando los diferentes tipos de datos en Python."
      ]
    },
    {
      "cell_type": "code",
      "metadata": {
        "id": "GBOoi2yaensV",
        "colab": {
          "base_uri": "https://localhost:8080/"
        },
        "outputId": "ea223207-cedb-4eed-d4ad-634990ac223c"
      },
      "source": [
        "from google.colab import drive\n",
        "drive.mount('/content/drive/')"
      ],
      "execution_count": null,
      "outputs": [
        {
          "output_type": "stream",
          "text": [
            "Drive already mounted at /content/drive/; to attempt to forcibly remount, call drive.mount(\"/content/drive/\", force_remount=True).\n"
          ],
          "name": "stdout"
        }
      ]
    },
    {
      "cell_type": "code",
      "metadata": {
        "id": "vDwE4laEKRyP"
      },
      "source": [
        "!cd /content/drive"
      ],
      "execution_count": null,
      "outputs": []
    },
    {
      "cell_type": "code",
      "metadata": {
        "colab": {
          "base_uri": "https://localhost:8080/"
        },
        "id": "G82MmQ5U3yKW",
        "outputId": "e3989572-6ad8-474b-fb07-9096f37b9298"
      },
      "source": [
        "!ls"
      ],
      "execution_count": null,
      "outputs": [
        {
          "output_type": "stream",
          "text": [
            "drive  sample_data\n"
          ],
          "name": "stdout"
        }
      ]
    },
    {
      "cell_type": "markdown",
      "metadata": {
        "id": "PYH8bNjxKTNE"
      },
      "source": [
        ""
      ]
    },
    {
      "cell_type": "markdown",
      "metadata": {
        "id": "9LCYmbRqnAEL"
      },
      "source": [
        "\n",
        "# 1. Tipos de Datos"
      ]
    },
    {
      "cell_type": "code",
      "metadata": {
        "id": "P1OOSSvpIfdX"
      },
      "source": [
        ""
      ],
      "execution_count": null,
      "outputs": []
    },
    {
      "cell_type": "markdown",
      "metadata": {
        "id": "8uFevkOgDchc"
      },
      "source": [
        "## Números\n",
        "\n",
        "Es el tipo de datos que más iremos a usar y puede ser de cualquiera de éstos subtipos:\n",
        "\n",
        "* int:\tentero\n",
        "* long:\tentero long\n",
        "* float:\tpunto flotante\n",
        "* complex:\tcomplejo\n",
        "* bool: booleano"
      ]
    },
    {
      "cell_type": "code",
      "metadata": {
        "id": "2cK7W8vYyAxN",
        "colab": {
          "base_uri": "https://localhost:8080/"
        },
        "outputId": "9cc3ec51-bc9e-438d-c2bc-e06b73dc7830"
      },
      "source": [
        "1 + 1"
      ],
      "execution_count": null,
      "outputs": [
        {
          "output_type": "execute_result",
          "data": {
            "text/plain": [
              "2"
            ]
          },
          "metadata": {
            "tags": []
          },
          "execution_count": 13
        }
      ]
    },
    {
      "cell_type": "code",
      "metadata": {
        "id": "JS8apPaBDchf",
        "colab": {
          "base_uri": "https://localhost:8080/"
        },
        "outputId": "feb283e6-a564-436b-8db3-972284468d50"
      },
      "source": [
        "10 - 88"
      ],
      "execution_count": null,
      "outputs": [
        {
          "output_type": "execute_result",
          "data": {
            "text/plain": [
              "-78"
            ]
          },
          "metadata": {
            "tags": []
          },
          "execution_count": 14
        }
      ]
    },
    {
      "cell_type": "code",
      "metadata": {
        "id": "0Ym0FQzxDchi",
        "colab": {
          "base_uri": "https://localhost:8080/"
        },
        "outputId": "b6abd56d-bd99-447d-d81e-9a6d7ce3826a"
      },
      "source": [
        "1 * 3"
      ],
      "execution_count": null,
      "outputs": [
        {
          "output_type": "execute_result",
          "data": {
            "text/plain": [
              "3"
            ]
          },
          "metadata": {
            "tags": []
          },
          "execution_count": 15
        }
      ]
    },
    {
      "cell_type": "code",
      "metadata": {
        "id": "Zvx5ufg6Dchj",
        "colab": {
          "base_uri": "https://localhost:8080/"
        },
        "outputId": "23fd2294-3346-4597-8ce1-e43e33670088"
      },
      "source": [
        "1 / 2"
      ],
      "execution_count": null,
      "outputs": [
        {
          "output_type": "execute_result",
          "data": {
            "text/plain": [
              "0.5"
            ]
          },
          "metadata": {
            "tags": []
          },
          "execution_count": 16
        }
      ]
    },
    {
      "cell_type": "code",
      "metadata": {
        "id": "WoObS0DnDchl",
        "colab": {
          "base_uri": "https://localhost:8080/"
        },
        "outputId": "0c139d79-2bcc-4735-da4f-b588b671323e"
      },
      "source": [
        "2 ** 4"
      ],
      "execution_count": null,
      "outputs": [
        {
          "output_type": "execute_result",
          "data": {
            "text/plain": [
              "16"
            ]
          },
          "metadata": {
            "tags": []
          },
          "execution_count": 20
        }
      ]
    },
    {
      "cell_type": "code",
      "metadata": {
        "id": "AUyJkFwAJxVJ"
      },
      "source": [
        "from IPython.display import display, Javascript\n",
        "from google.colab.output import eval_js\n",
        "from base64 import b64decode\n",
        "\n",
        "def take_photo(filename='photo.jpg', quality=0.8):\n",
        "  js = Javascript('''\n",
        "    async function takePhoto(quality) {\n",
        "      const div = document.createElement('div');\n",
        "      const capture = document.createElement('button');\n",
        "      capture.textContent = 'Capture';\n",
        "      div.appendChild(capture);\n",
        "\n",
        "      const video = document.createElement('video');\n",
        "      video.style.display = 'block';\n",
        "      const stream = await navigator.mediaDevices.getUserMedia({video: true});\n",
        "\n",
        "      document.body.appendChild(div);\n",
        "      div.appendChild(video);\n",
        "      video.srcObject = stream;\n",
        "      await video.play();\n",
        "\n",
        "      // Resize the output to fit the video element.\n",
        "      google.colab.output.setIframeHeight(document.documentElement.scrollHeight, true);\n",
        "\n",
        "      // Wait for Capture to be clicked.\n",
        "      await new Promise((resolve) => capture.onclick = resolve);\n",
        "\n",
        "      const canvas = document.createElement('canvas');\n",
        "      canvas.width = video.videoWidth;\n",
        "      canvas.height = video.videoHeight;\n",
        "      canvas.getContext('2d').drawImage(video, 0, 0);\n",
        "      stream.getVideoTracks()[0].stop();\n",
        "      div.remove();\n",
        "      return canvas.toDataURL('image/jpeg', quality);\n",
        "    }\n",
        "    ''')\n",
        "  display(js)\n",
        "  data = eval_js('takePhoto({})'.format(quality))\n",
        "  binary = b64decode(data.split(',')[1])\n",
        "  with open(filename, 'wb') as f:\n",
        "    f.write(binary)\n",
        "  return filename"
      ],
      "execution_count": null,
      "outputs": []
    },
    {
      "cell_type": "code",
      "metadata": {
        "id": "sWaN9u9bJxUl",
        "colab": {
          "base_uri": "https://localhost:8080/",
          "height": 514
        },
        "outputId": "5fced04f-7b20-4a9f-cc4f-bf15d4a6fc04"
      },
      "source": [
        "from IPython.display import Image\n",
        "try:\n",
        "  filename = take_photo()\n",
        "  print('Saved to {}'.format(filename))\n",
        "  \n",
        "  # Show the image which was just taken.\n",
        "  display(Image(filename))\n",
        "except Exception as err:\n",
        "  # Errors will be thrown if the user does not have a webcam or if they do not\n",
        "  # grant the page permission to access it.\n",
        "  print(str(err))"
      ],
      "execution_count": null,
      "outputs": [
        {
          "output_type": "display_data",
          "data": {
            "application/javascript": [
              "\n",
              "    async function takePhoto(quality) {\n",
              "      const div = document.createElement('div');\n",
              "      const capture = document.createElement('button');\n",
              "      capture.textContent = 'Capture';\n",
              "      div.appendChild(capture);\n",
              "\n",
              "      const video = document.createElement('video');\n",
              "      video.style.display = 'block';\n",
              "      const stream = await navigator.mediaDevices.getUserMedia({video: true});\n",
              "\n",
              "      document.body.appendChild(div);\n",
              "      div.appendChild(video);\n",
              "      video.srcObject = stream;\n",
              "      await video.play();\n",
              "\n",
              "      // Resize the output to fit the video element.\n",
              "      google.colab.output.setIframeHeight(document.documentElement.scrollHeight, true);\n",
              "\n",
              "      // Wait for Capture to be clicked.\n",
              "      await new Promise((resolve) => capture.onclick = resolve);\n",
              "\n",
              "      const canvas = document.createElement('canvas');\n",
              "      canvas.width = video.videoWidth;\n",
              "      canvas.height = video.videoHeight;\n",
              "      canvas.getContext('2d').drawImage(video, 0, 0);\n",
              "      stream.getVideoTracks()[0].stop();\n",
              "      div.remove();\n",
              "      return canvas.toDataURL('image/jpeg', quality);\n",
              "    }\n",
              "    "
            ],
            "text/plain": [
              "<IPython.core.display.Javascript object>"
            ]
          },
          "metadata": {
            "tags": []
          }
        },
        {
          "output_type": "stream",
          "text": [
            "Saved to photo.jpg\n"
          ],
          "name": "stdout"
        },
        {
          "output_type": "display_data",
          "data": {
            "image/jpeg": "[encoded data removed]",
            "text/plain": [
              "<IPython.core.display.Image object>"
            ]
          },
          "metadata": {
            "tags": []
          }
        }
      ]
    },
    {
      "cell_type": "code",
      "metadata": {
        "id": "izQgn7xcDchn",
        "colab": {
          "base_uri": "https://localhost:8080/"
        },
        "outputId": "c2e3a558-5f86-4f7d-b021-97f108be861e"
      },
      "source": [
        "4 % 2"
      ],
      "execution_count": null,
      "outputs": [
        {
          "output_type": "execute_result",
          "data": {
            "text/plain": [
              "0"
            ]
          },
          "metadata": {
            "tags": []
          },
          "execution_count": 23
        }
      ]
    },
    {
      "cell_type": "code",
      "metadata": {
        "id": "wsvEp_lwDchp",
        "colab": {
          "base_uri": "https://localhost:8080/"
        },
        "outputId": "8090faa7-9bd6-46be-e2cd-fb8874c2cf73"
      },
      "source": [
        "5 % 2"
      ],
      "execution_count": null,
      "outputs": [
        {
          "output_type": "execute_result",
          "data": {
            "text/plain": [
              "1"
            ]
          },
          "metadata": {
            "tags": []
          },
          "execution_count": 24
        }
      ]
    },
    {
      "cell_type": "code",
      "metadata": {
        "id": "myKceJC6Dchq",
        "colab": {
          "base_uri": "https://localhost:8080/"
        },
        "outputId": "eae2ec60-d508-412b-ff37-74c7a9d9c367"
      },
      "source": [
        "# Precedencia de operadores\n",
        "2 + 3 * 5 + 5"
      ],
      "execution_count": null,
      "outputs": [
        {
          "output_type": "execute_result",
          "data": {
            "text/plain": [
              "22"
            ]
          },
          "metadata": {
            "tags": []
          },
          "execution_count": 26
        }
      ]
    },
    {
      "cell_type": "code",
      "metadata": {
        "id": "2bp7sPZwDcht",
        "colab": {
          "base_uri": "https://localhost:8080/"
        },
        "outputId": "ca1e9d3e-71e4-4300-8317-3a130cf67528"
      },
      "source": [
        "# Los paréntesis pueden modificar la precedencia\n",
        "(2 + 3) * (5 + 5)"
      ],
      "execution_count": null,
      "outputs": [
        {
          "output_type": "execute_result",
          "data": {
            "text/plain": [
              "50"
            ]
          },
          "metadata": {
            "tags": []
          },
          "execution_count": 27
        }
      ]
    },
    {
      "cell_type": "markdown",
      "metadata": {
        "id": "Z8EFwYVeDchu"
      },
      "source": [
        "#### Asignación de valores numéricos a una variable"
      ]
    },
    {
      "cell_type": "code",
      "metadata": {
        "id": "-46gPuAbDchv"
      },
      "source": [
        "# Nombres de variables: no deben empezar con números ni símbolos especiales e.g. $\n",
        "variable = 2\n",
        "mi_var = 6\n",
        "datosEmpleadosExcel = [2, 123, 23] #Camel Case"
      ],
      "execution_count": null,
      "outputs": []
    },
    {
      "cell_type": "code",
      "metadata": {
        "id": "E6a667eEDchx"
      },
      "source": [
        "x = 2\n",
        "y = 3"
      ],
      "execution_count": null,
      "outputs": []
    },
    {
      "cell_type": "code",
      "metadata": {
        "id": "F3qp29a8Dch0"
      },
      "source": [
        "z = x + y"
      ],
      "execution_count": null,
      "outputs": []
    },
    {
      "cell_type": "code",
      "metadata": {
        "id": "M4uUJIRcDch4",
        "colab": {
          "base_uri": "https://localhost:8080/"
        },
        "outputId": "7f3fda5b-e293-4d9d-bf84-e03860a777bd"
      },
      "source": [
        "z"
      ],
      "execution_count": null,
      "outputs": [
        {
          "output_type": "execute_result",
          "data": {
            "text/plain": [
              "5"
            ]
          },
          "metadata": {
            "tags": []
          },
          "execution_count": 34
        }
      ]
    },
    {
      "cell_type": "markdown",
      "metadata": {
        "id": "QbNc0x3vDckM"
      },
      "source": [
        "## Booleanos\n",
        "\n",
        "El tipo booleano sólo puede tener dos valores: True (verdadero) y False (falso). Estos valores son especialmente importantes para las expresiones condicionales."
      ]
    },
    {
      "cell_type": "code",
      "metadata": {
        "id": "ncJHG6KgDckM",
        "colab": {
          "base_uri": "https://localhost:8080/"
        },
        "outputId": "f7ac062f-a7a5-4123-9183-8f80cef9c658"
      },
      "source": [
        "True"
      ],
      "execution_count": null,
      "outputs": [
        {
          "output_type": "execute_result",
          "data": {
            "text/plain": [
              "True"
            ]
          },
          "metadata": {
            "tags": []
          },
          "execution_count": 35
        }
      ]
    },
    {
      "cell_type": "code",
      "metadata": {
        "id": "UvK7Jrs5DckO",
        "colab": {
          "base_uri": "https://localhost:8080/"
        },
        "outputId": "cac90934-ce19-4139-dd6e-af8064c63256"
      },
      "source": [
        "False"
      ],
      "execution_count": null,
      "outputs": [
        {
          "output_type": "execute_result",
          "data": {
            "text/plain": [
              "False"
            ]
          },
          "metadata": {
            "tags": []
          },
          "execution_count": 36
        }
      ]
    },
    {
      "cell_type": "markdown",
      "metadata": {
        "id": "VWxn86znDch6"
      },
      "source": [
        "## Cadenas (Strings)\n",
        "\n",
        "Son un tipo de dato para almacenar secuencias de caracteres, estos son utiles cuando debamos trabajar con texto."
      ]
    },
    {
      "cell_type": "code",
      "metadata": {
        "id": "ba40VjPWDch8",
        "colab": {
          "base_uri": "https://localhost:8080/",
          "height": 35
        },
        "outputId": "786cb0d6-dc4c-4ab4-f000-d855adec0d94"
      },
      "source": [
        "'comilla simple'"
      ],
      "execution_count": null,
      "outputs": [
        {
          "output_type": "execute_result",
          "data": {
            "application/vnd.google.colaboratory.intrinsic+json": {
              "type": "string"
            },
            "text/plain": [
              "'comilla simple'"
            ]
          },
          "metadata": {
            "tags": []
          },
          "execution_count": 37
        }
      ]
    },
    {
      "cell_type": "code",
      "metadata": {
        "id": "rj9RBr35Dch-",
        "colab": {
          "base_uri": "https://localhost:8080/",
          "height": 35
        },
        "outputId": "bbe3e75e-fcec-48c8-fa38-972745513870"
      },
      "source": [
        "\"comillas dobles\""
      ],
      "execution_count": null,
      "outputs": [
        {
          "output_type": "execute_result",
          "data": {
            "application/vnd.google.colaboratory.intrinsic+json": {
              "type": "string"
            },
            "text/plain": [
              "'comillas dobles'"
            ]
          },
          "metadata": {
            "tags": []
          },
          "execution_count": 38
        }
      ]
    },
    {
      "cell_type": "code",
      "metadata": {
        "id": "sZff3MzkDciB",
        "colab": {
          "base_uri": "https://localhost:8080/",
          "height": 35
        },
        "outputId": "1ec27634-dfd4-4f05-d3c7-e27ff05fcb64"
      },
      "source": [
        "'uso del caracter de escape para escribir el caracter de comilla simple\\' dentro de una cadena con comilla simple'"
      ],
      "execution_count": null,
      "outputs": [
        {
          "output_type": "execute_result",
          "data": {
            "application/vnd.google.colaboratory.intrinsic+json": {
              "type": "string"
            },
            "text/plain": [
              "\"uso del caracter de escape para escribir el caracter de comilla simple' dentro de una cadena con comilla simple\""
            ]
          },
          "metadata": {
            "tags": []
          },
          "execution_count": 41
        }
      ]
    },
    {
      "cell_type": "markdown",
      "metadata": {
        "id": "9L_F26XpDcic"
      },
      "source": [
        "### Índices de cadenas\n",
        "\n",
        "Para acceder a las posiciones de cada uno de los caracteres de una cadena de hace por medio de su índice.\n"
      ]
    },
    {
      "cell_type": "code",
      "metadata": {
        "id": "SPZyXtDxDcic"
      },
      "source": [
        "s = \"Introducción al Análisis y Visualización de Datos con Python\""
      ],
      "execution_count": null,
      "outputs": []
    },
    {
      "cell_type": "code",
      "metadata": {
        "id": "mEis3UffDcih",
        "colab": {
          "base_uri": "https://localhost:8080/",
          "height": 35
        },
        "outputId": "9dc31158-9008-4750-c804-3ea46197bdc4"
      },
      "source": [
        "s[0]"
      ],
      "execution_count": null,
      "outputs": [
        {
          "output_type": "execute_result",
          "data": {
            "application/vnd.google.colaboratory.intrinsic+json": {
              "type": "string"
            },
            "text/plain": [
              "'I'"
            ]
          },
          "metadata": {
            "tags": []
          },
          "execution_count": 44
        }
      ]
    },
    {
      "cell_type": "code",
      "metadata": {
        "id": "Iun3pxXXDcik",
        "colab": {
          "base_uri": "https://localhost:8080/",
          "height": 35
        },
        "outputId": "91d60c62-ade3-40c9-afe8-89746e1a5248"
      },
      "source": [
        "s[3]"
      ],
      "execution_count": null,
      "outputs": [
        {
          "output_type": "execute_result",
          "data": {
            "application/vnd.google.colaboratory.intrinsic+json": {
              "type": "string"
            },
            "text/plain": [
              "'r'"
            ]
          },
          "metadata": {
            "tags": []
          },
          "execution_count": 45
        }
      ]
    },
    {
      "cell_type": "code",
      "metadata": {
        "id": "DpBKbq199zCc",
        "colab": {
          "base_uri": "https://localhost:8080/",
          "height": 35
        },
        "outputId": "9058b6f2-3b6b-4b11-dd4e-824602ca89ee"
      },
      "source": [
        "s[-1]"
      ],
      "execution_count": null,
      "outputs": [
        {
          "output_type": "execute_result",
          "data": {
            "application/vnd.google.colaboratory.intrinsic+json": {
              "type": "string"
            },
            "text/plain": [
              "'n'"
            ]
          },
          "metadata": {
            "tags": []
          },
          "execution_count": 46
        }
      ]
    },
    {
      "cell_type": "markdown",
      "metadata": {
        "id": "gf7voUFyDcim"
      },
      "source": [
        "### Troceado de cadenas (Slicing)\n",
        "\n",
        "Para tomar un subconjunto de elementos de la cadena inicial lo hacemos por la posición en el ìndice en forma de  rango:\n",
        "\n",
        "** cadena[inicio:fin:paso] **\n",
        "* inicio (incluído)\n",
        "* fin (excluído)\n",
        "\n",
        "Valores por defecto: \n",
        "* inicio = 0\n",
        "* fin = longitud cadena\n",
        "* paso = 1 (puede ser negativo para empezar desde el final de la cadena hacia la izquierda)"
      ]
    },
    {
      "cell_type": "code",
      "metadata": {
        "id": "8oeMFF4GDcin",
        "colab": {
          "base_uri": "https://localhost:8080/",
          "height": 35
        },
        "outputId": "7b92144b-f2d4-49cf-cb16-6dfeedd81389"
      },
      "source": [
        "s[0:10]"
      ],
      "execution_count": null,
      "outputs": [
        {
          "output_type": "execute_result",
          "data": {
            "application/vnd.google.colaboratory.intrinsic+json": {
              "type": "string"
            },
            "text/plain": [
              "'Introducci'"
            ]
          },
          "metadata": {
            "tags": []
          },
          "execution_count": 47
        }
      ]
    },
    {
      "cell_type": "code",
      "metadata": {
        "id": "gJgq9Y8uDcir",
        "colab": {
          "base_uri": "https://localhost:8080/",
          "height": 35
        },
        "outputId": "d62e05fe-1f21-4516-c9da-60da2a52ae66"
      },
      "source": [
        "s[:10]"
      ],
      "execution_count": null,
      "outputs": [
        {
          "output_type": "execute_result",
          "data": {
            "application/vnd.google.colaboratory.intrinsic+json": {
              "type": "string"
            },
            "text/plain": [
              "'Introducci'"
            ]
          },
          "metadata": {
            "tags": []
          },
          "execution_count": 48
        }
      ]
    },
    {
      "cell_type": "code",
      "metadata": {
        "id": "2QYDlWjJDciw",
        "colab": {
          "base_uri": "https://localhost:8080/",
          "height": 35
        },
        "outputId": "b34ac26b-4ed1-4f66-af95-4dfbc0d96f14"
      },
      "source": [
        "s[:]"
      ],
      "execution_count": null,
      "outputs": [
        {
          "output_type": "execute_result",
          "data": {
            "application/vnd.google.colaboratory.intrinsic+json": {
              "type": "string"
            },
            "text/plain": [
              "'Introducción al Análisis y Visualización de Datos con Python'"
            ]
          },
          "metadata": {
            "tags": []
          },
          "execution_count": 49
        }
      ]
    },
    {
      "cell_type": "code",
      "metadata": {
        "id": "mYVMMg8BDci1",
        "colab": {
          "base_uri": "https://localhost:8080/",
          "height": 35
        },
        "outputId": "dd45fa40-6b1b-4c4f-8d20-1eb1226d7a2f"
      },
      "source": [
        "s[0::3]"
      ],
      "execution_count": null,
      "outputs": [
        {
          "output_type": "execute_result",
          "data": {
            "application/vnd.google.colaboratory.intrinsic+json": {
              "type": "string"
            },
            "text/plain": [
              "'Irui  ás VuicneasoPh'"
            ]
          },
          "metadata": {
            "tags": []
          },
          "execution_count": 51
        }
      ]
    },
    {
      "cell_type": "code",
      "metadata": {
        "id": "ywta5mhkDci2",
        "colab": {
          "base_uri": "https://localhost:8080/",
          "height": 35
        },
        "outputId": "145639e2-2123-47f7-f493-4ce2a8e8a32c"
      },
      "source": [
        "s[::-1]"
      ],
      "execution_count": null,
      "outputs": [
        {
          "output_type": "execute_result",
          "data": {
            "application/vnd.google.colaboratory.intrinsic+json": {
              "type": "string"
            },
            "text/plain": [
              "'nohtyP noc sotaD ed nóicazilausiV y sisilánA la nóiccudortnI'"
            ]
          },
          "metadata": {
            "tags": []
          },
          "execution_count": 52
        }
      ]
    },
    {
      "cell_type": "code",
      "metadata": {
        "id": "NqGipjC6Dci4"
      },
      "source": [
        "cad = \"Amor a Roma\""
      ],
      "execution_count": null,
      "outputs": []
    },
    {
      "cell_type": "code",
      "metadata": {
        "id": "9k-_kS-0Dci5",
        "colab": {
          "base_uri": "https://localhost:8080/",
          "height": 35
        },
        "outputId": "8194ecc9-6df7-4785-fa61-430dbadcf3ef"
      },
      "source": [
        "cad[::-1]"
      ],
      "execution_count": null,
      "outputs": [
        {
          "output_type": "execute_result",
          "data": {
            "application/vnd.google.colaboratory.intrinsic+json": {
              "type": "string"
            },
            "text/plain": [
              "'amoR a romA'"
            ]
          },
          "metadata": {
            "tags": []
          },
          "execution_count": 54
        }
      ]
    },
    {
      "cell_type": "code",
      "metadata": {
        "id": "cAmXs1v0Dci7"
      },
      "source": [
        "oculto = \"!XeXgXaXsXsXeXmX XtXeXrXcXeXsX XeXhXtX XmXaX XI\""
      ],
      "execution_count": null,
      "outputs": []
    },
    {
      "cell_type": "code",
      "metadata": {
        "id": "oLkZH5UHDci8",
        "colab": {
          "base_uri": "https://localhost:8080/",
          "height": 35
        },
        "outputId": "71d2df5a-508b-4239-ba17-459369d02d1c"
      },
      "source": [
        "mensaje = oculto[::-2]\n",
        "mensaje"
      ],
      "execution_count": null,
      "outputs": [
        {
          "output_type": "execute_result",
          "data": {
            "application/vnd.google.colaboratory.intrinsic+json": {
              "type": "string"
            },
            "text/plain": [
              "'I am the secret message!'"
            ]
          },
          "metadata": {
            "tags": []
          },
          "execution_count": 57
        }
      ]
    },
    {
      "cell_type": "code",
      "metadata": {
        "id": "ie0r7wJaDciF",
        "colab": {
          "base_uri": "https://localhost:8080/",
          "height": 34
        },
        "outputId": "5ab6ab17-1084-4bc2-b69b-3b10a80bf32a"
      },
      "source": [
        "\"usando comillas dobles no es necesario el caracter de escape para escribir el caracter de comilla simple ' dentro de una cadena\""
      ],
      "execution_count": null,
      "outputs": [
        {
          "output_type": "execute_result",
          "data": {
            "text/plain": [
              "\"usando comillas dobles no es necesario el caracter de escape para escribir el caracter de comilla simple ' dentro de una cadena\""
            ]
          },
          "metadata": {
            "tags": []
          },
          "execution_count": 39
        }
      ]
    },
    {
      "cell_type": "markdown",
      "metadata": {
        "id": "g8AbAnTiDciK"
      },
      "source": [
        "## Imprimiendo en pantalla\n",
        "\n",
        "Para imprimir en pantalla el contenido de una variable o cualquier expresión, usamos la función de python \n",
        "\n",
        "``print(\"Cadena a Imprimir\")``"
      ]
    },
    {
      "cell_type": "code",
      "metadata": {
        "id": "Ei5CmWm9DciL"
      },
      "source": [
        "x = 'hello'"
      ],
      "execution_count": null,
      "outputs": []
    },
    {
      "cell_type": "code",
      "metadata": {
        "id": "x3I7D4n-DciN",
        "colab": {
          "base_uri": "https://localhost:8080/",
          "height": 35
        },
        "outputId": "1d36b24e-48d9-4fac-a29e-904959126f95"
      },
      "source": [
        "x"
      ],
      "execution_count": null,
      "outputs": [
        {
          "output_type": "execute_result",
          "data": {
            "application/vnd.google.colaboratory.intrinsic+json": {
              "type": "string"
            },
            "text/plain": [
              "'hello'"
            ]
          },
          "metadata": {
            "tags": []
          },
          "execution_count": 59
        }
      ]
    },
    {
      "cell_type": "code",
      "metadata": {
        "id": "T5OMEiBODciO",
        "colab": {
          "base_uri": "https://localhost:8080/"
        },
        "outputId": "3dc9fc26-97ad-4df8-c841-790a8ad7da2c"
      },
      "source": [
        "print(x)"
      ],
      "execution_count": null,
      "outputs": [
        {
          "output_type": "stream",
          "text": [
            "hello\n"
          ],
          "name": "stdout"
        }
      ]
    },
    {
      "cell_type": "code",
      "metadata": {
        "id": "L2uWE5brDciS"
      },
      "source": [
        "num = 12\n",
        "name = 'Felipe'"
      ],
      "execution_count": null,
      "outputs": []
    },
    {
      "cell_type": "code",
      "metadata": {
        "id": "dF5F-dtHDciU",
        "colab": {
          "base_uri": "https://localhost:8080/"
        },
        "outputId": "517cbc9a-0f78-4d36-94f5-d2b786cfd04e"
      },
      "source": [
        "print('Mi número es: {} y mi nombre es: {}'.format(num,name))"
      ],
      "execution_count": null,
      "outputs": [
        {
          "output_type": "stream",
          "text": [
            "Mi número es: 12 y mi nombre es: Felipe\n"
          ],
          "name": "stdout"
        }
      ]
    },
    {
      "cell_type": "code",
      "metadata": {
        "id": "vH8zXxttDciW",
        "colab": {
          "base_uri": "https://localhost:8080/"
        },
        "outputId": "37043412-6a08-4ef3-c98d-8415f8a18d23"
      },
      "source": [
        "print('Mi número es: {uno} y mi nombre es: {dos}'.format(uno=num,dos=name))"
      ],
      "execution_count": null,
      "outputs": [
        {
          "output_type": "stream",
          "text": [
            "Mi número es: 12 y mi nombre es: Felipe\n"
          ],
          "name": "stdout"
        }
      ]
    },
    {
      "cell_type": "code",
      "metadata": {
        "id": "gGALnD9_DciX",
        "colab": {
          "base_uri": "https://localhost:8080/"
        },
        "outputId": "b641dc36-07cc-4124-e352-9e6ee4743a2a"
      },
      "source": [
        "print('Mi número es: {uno} y mi nombre es: {dos}, otra vez el número: {uno}'.format(uno=num, dos=name))"
      ],
      "execution_count": null,
      "outputs": [
        {
          "output_type": "stream",
          "text": [
            "Mi número es: 12 y mi nombre es: Felipe, otra vez el número: 12\n"
          ],
          "name": "stdout"
        }
      ]
    },
    {
      "cell_type": "code",
      "metadata": {
        "id": "uMjpLk5jDcia",
        "colab": {
          "base_uri": "https://localhost:8080/"
        },
        "outputId": "9339f024-a525-4b1b-8987-8274d63861f8"
      },
      "source": [
        "print(\"Mi número es: %d y mi nombre es: %s\" % (num,name)) "
      ],
      "execution_count": null,
      "outputs": [
        {
          "output_type": "stream",
          "text": [
            "Mi número es: 12 y mi nombre es: Felipe\n"
          ],
          "name": "stdout"
        }
      ]
    },
    {
      "cell_type": "code",
      "metadata": {
        "id": "ur9rZj0e-Ap7",
        "colab": {
          "base_uri": "https://localhost:8080/"
        },
        "outputId": "74c17469-4fea-4cd9-a324-c1bd00debcd0"
      },
      "source": [
        "# f-string Python 3\n",
        "print(f\"Mi número es: {num} y mi nombre es: {name}\") "
      ],
      "execution_count": null,
      "outputs": [
        {
          "output_type": "stream",
          "text": [
            "Mi número es: 12 y mi nombre es: Felipe\n"
          ],
          "name": "stdout"
        }
      ]
    },
    {
      "cell_type": "markdown",
      "metadata": {
        "id": "JNYzN9jx90F-"
      },
      "source": [
        "# Otros Tipos de Datos\n",
        "\n",
        "En Python existen muchos tipos de datos, pero los más usados y versátiles los veremos a continuación."
      ]
    },
    {
      "cell_type": "markdown",
      "metadata": {
        "id": "sp_hMLDbDci-"
      },
      "source": [
        "### Listas\n",
        "\n",
        "Son secuencias de elementos que pueden pertenecer a cualquier tipo de dato. Estas listas guardan un órden que está definido el índice."
      ]
    },
    {
      "cell_type": "code",
      "metadata": {
        "id": "U0SC7_ESDci-",
        "colab": {
          "base_uri": "https://localhost:8080/"
        },
        "outputId": "a6d7b124-40b7-4290-ec4d-213c536ce8aa"
      },
      "source": [
        "[1,2,3]"
      ],
      "execution_count": null,
      "outputs": [
        {
          "output_type": "execute_result",
          "data": {
            "text/plain": [
              "[1, 2, 3]"
            ]
          },
          "metadata": {
            "tags": []
          },
          "execution_count": 69
        }
      ]
    },
    {
      "cell_type": "code",
      "metadata": {
        "id": "7DRG2_jcDcjA",
        "colab": {
          "base_uri": "https://localhost:8080/"
        },
        "outputId": "d5937b36-19e9-43e2-ceab-251884cd75c2"
      },
      "source": [
        "['a','b','c']"
      ],
      "execution_count": null,
      "outputs": [
        {
          "output_type": "execute_result",
          "data": {
            "text/plain": [
              "['a', 'b', 'c']"
            ]
          },
          "metadata": {
            "tags": []
          },
          "execution_count": 70
        }
      ]
    },
    {
      "cell_type": "code",
      "metadata": {
        "id": "L8bErUnKDcjB",
        "colab": {
          "base_uri": "https://localhost:8080/"
        },
        "outputId": "05d9f7aa-7b15-452d-9a9c-345b0d707622"
      },
      "source": [
        "['hi',1,[1,2]]"
      ],
      "execution_count": null,
      "outputs": [
        {
          "output_type": "execute_result",
          "data": {
            "text/plain": [
              "['hi', 1, [1, 2]]"
            ]
          },
          "metadata": {
            "tags": []
          },
          "execution_count": 72
        }
      ]
    },
    {
      "cell_type": "code",
      "metadata": {
        "id": "h_XXCa1GDcjC"
      },
      "source": [
        "my_list = ['a','b','c']"
      ],
      "execution_count": null,
      "outputs": []
    },
    {
      "cell_type": "code",
      "metadata": {
        "id": "d46CV21iDcjE",
        "colab": {
          "base_uri": "https://localhost:8080/"
        },
        "outputId": "c0de807c-e000-4d52-fa4a-08827c1b3019"
      },
      "source": [
        "my_list"
      ],
      "execution_count": null,
      "outputs": [
        {
          "output_type": "execute_result",
          "data": {
            "text/plain": [
              "['a', 'b', 'c']"
            ]
          },
          "metadata": {
            "tags": []
          },
          "execution_count": 81
        }
      ]
    },
    {
      "cell_type": "code",
      "metadata": {
        "id": "oZHoipayDcjF"
      },
      "source": [
        "my_list.append('NEW')"
      ],
      "execution_count": null,
      "outputs": []
    },
    {
      "cell_type": "code",
      "metadata": {
        "id": "OSrOuqFyDcjH",
        "colab": {
          "base_uri": "https://localhost:8080/"
        },
        "outputId": "3915c69c-95f6-4e5e-eba3-2e7a52735e56"
      },
      "source": [
        "my_list"
      ],
      "execution_count": null,
      "outputs": [
        {
          "output_type": "execute_result",
          "data": {
            "text/plain": [
              "['a', 'b', 'c', 'NEW']"
            ]
          },
          "metadata": {
            "tags": []
          },
          "execution_count": 83
        }
      ]
    },
    {
      "cell_type": "code",
      "metadata": {
        "id": "EfGbKZtN-eLb"
      },
      "source": [
        "# Eliminar un elemento de la lista por su contenido\n",
        "my_list.remove('c')"
      ],
      "execution_count": null,
      "outputs": []
    },
    {
      "cell_type": "code",
      "metadata": {
        "id": "2YNKDAd7-6p6",
        "colab": {
          "base_uri": "https://localhost:8080/"
        },
        "outputId": "e6224b62-c759-49c3-81b7-349671962660"
      },
      "source": [
        "my_list"
      ],
      "execution_count": null,
      "outputs": [
        {
          "output_type": "execute_result",
          "data": {
            "text/plain": [
              "['a', 'b', 'NEW']"
            ]
          },
          "metadata": {
            "tags": []
          },
          "execution_count": 85
        }
      ]
    },
    {
      "cell_type": "code",
      "metadata": {
        "id": "7-KHaiMd-8zS"
      },
      "source": [
        "# Eliminar un elemento de la lista por su índice\n",
        "del my_list[2]"
      ],
      "execution_count": null,
      "outputs": []
    },
    {
      "cell_type": "code",
      "metadata": {
        "id": "MrFihgf6_rzp",
        "colab": {
          "base_uri": "https://localhost:8080/"
        },
        "outputId": "038b09f0-784d-4edc-efb0-27e2d9947c59"
      },
      "source": [
        "my_list"
      ],
      "execution_count": null,
      "outputs": [
        {
          "output_type": "execute_result",
          "data": {
            "text/plain": [
              "['a', 'b']"
            ]
          },
          "metadata": {
            "tags": []
          },
          "execution_count": 87
        }
      ]
    },
    {
      "cell_type": "code",
      "metadata": {
        "id": "RXczMlhl_0Tl",
        "colab": {
          "base_uri": "https://localhost:8080/",
          "height": 35
        },
        "outputId": "871c6528-cba2-481f-d435-2a4c83f0fad9"
      },
      "source": [
        "# Eliminar un elemento de la lista por su posición y retorno el dato\n",
        "my_list.pop(1)"
      ],
      "execution_count": null,
      "outputs": [
        {
          "output_type": "execute_result",
          "data": {
            "application/vnd.google.colaboratory.intrinsic+json": {
              "type": "string"
            },
            "text/plain": [
              "'b'"
            ]
          },
          "metadata": {
            "tags": []
          },
          "execution_count": 88
        }
      ]
    },
    {
      "cell_type": "code",
      "metadata": {
        "id": "zhMcYMPXAU2A",
        "colab": {
          "base_uri": "https://localhost:8080/"
        },
        "outputId": "15834974-db97-4715-cd33-52fc0db7fefd"
      },
      "source": [
        "my_list"
      ],
      "execution_count": null,
      "outputs": [
        {
          "output_type": "execute_result",
          "data": {
            "text/plain": [
              "['a']"
            ]
          },
          "metadata": {
            "tags": []
          },
          "execution_count": 89
        }
      ]
    },
    {
      "cell_type": "code",
      "metadata": {
        "id": "teK9FLZm_FSK"
      },
      "source": [
        "# Restauro la lista anterior\n",
        "my_list = ['a', 'b', 'c', 'NEW']"
      ],
      "execution_count": null,
      "outputs": []
    },
    {
      "cell_type": "code",
      "metadata": {
        "id": "tv-uiz6RDcjM",
        "colab": {
          "base_uri": "https://localhost:8080/",
          "height": 35
        },
        "outputId": "84a72b1f-591f-4bda-a27a-60ae32a33901"
      },
      "source": [
        "my_list[0]"
      ],
      "execution_count": null,
      "outputs": [
        {
          "output_type": "execute_result",
          "data": {
            "application/vnd.google.colaboratory.intrinsic+json": {
              "type": "string"
            },
            "text/plain": [
              "'a'"
            ]
          },
          "metadata": {
            "tags": []
          },
          "execution_count": 91
        }
      ]
    },
    {
      "cell_type": "code",
      "metadata": {
        "id": "Y_zTPr7uDcjP",
        "colab": {
          "base_uri": "https://localhost:8080/",
          "height": 35
        },
        "outputId": "2a05eede-7e2e-44ee-cfcd-d3a31c129ad8"
      },
      "source": [
        "my_list[1]"
      ],
      "execution_count": null,
      "outputs": [
        {
          "output_type": "execute_result",
          "data": {
            "application/vnd.google.colaboratory.intrinsic+json": {
              "type": "string"
            },
            "text/plain": [
              "'b'"
            ]
          },
          "metadata": {
            "tags": []
          },
          "execution_count": 92
        }
      ]
    },
    {
      "cell_type": "code",
      "metadata": {
        "id": "NjmIMRDODcjR",
        "colab": {
          "base_uri": "https://localhost:8080/"
        },
        "outputId": "16223ba6-1abe-4195-8c5b-62bc3f5612dd"
      },
      "source": [
        "my_list[1:]"
      ],
      "execution_count": null,
      "outputs": [
        {
          "output_type": "execute_result",
          "data": {
            "text/plain": [
              "['b', 'c', 'NEW']"
            ]
          },
          "metadata": {
            "tags": []
          },
          "execution_count": 95
        }
      ]
    },
    {
      "cell_type": "code",
      "metadata": {
        "id": "CHGx3efaDcjU",
        "colab": {
          "base_uri": "https://localhost:8080/"
        },
        "outputId": "b8e59ec6-23dd-405c-a20d-629a588e89c1"
      },
      "source": [
        "my_list[:1]"
      ],
      "execution_count": null,
      "outputs": [
        {
          "output_type": "execute_result",
          "data": {
            "text/plain": [
              "['a']"
            ]
          },
          "metadata": {
            "tags": []
          },
          "execution_count": 97
        }
      ]
    },
    {
      "cell_type": "code",
      "metadata": {
        "id": "I2rlbtSBDcjV"
      },
      "source": [
        "my_list[0] = 'Nuevo valor'"
      ],
      "execution_count": null,
      "outputs": []
    },
    {
      "cell_type": "code",
      "metadata": {
        "id": "Kkzl-zytDcjZ",
        "colab": {
          "base_uri": "https://localhost:8080/"
        },
        "outputId": "f74c3eb8-f8c0-419f-bbd8-9d8630ae95b1"
      },
      "source": [
        "my_list"
      ],
      "execution_count": null,
      "outputs": [
        {
          "output_type": "execute_result",
          "data": {
            "text/plain": [
              "['Nuevo valor', 'b', 'c', 'NEW']"
            ]
          },
          "metadata": {
            "tags": []
          },
          "execution_count": 100
        }
      ]
    },
    {
      "cell_type": "code",
      "metadata": {
        "id": "voMB0byUDcja"
      },
      "source": [
        "anidada = [1,2,[3,4],5]"
      ],
      "execution_count": null,
      "outputs": []
    },
    {
      "cell_type": "code",
      "metadata": {
        "id": "HX0Dye88Dcjc",
        "colab": {
          "base_uri": "https://localhost:8080/"
        },
        "outputId": "336a628a-00f8-4e87-ebda-936074d3cb75"
      },
      "source": [
        "anidada[2]"
      ],
      "execution_count": null,
      "outputs": [
        {
          "output_type": "execute_result",
          "data": {
            "text/plain": [
              "[3, 4]"
            ]
          },
          "metadata": {
            "tags": []
          },
          "execution_count": 103
        }
      ]
    },
    {
      "cell_type": "code",
      "metadata": {
        "id": "e51T5pcDDcje",
        "colab": {
          "base_uri": "https://localhost:8080/"
        },
        "outputId": "d821fcf2-ed58-43e7-a34d-0abccf66ee77"
      },
      "source": [
        "anidada[2][0]"
      ],
      "execution_count": null,
      "outputs": [
        {
          "output_type": "execute_result",
          "data": {
            "text/plain": [
              "3"
            ]
          },
          "metadata": {
            "tags": []
          },
          "execution_count": 104
        }
      ]
    },
    {
      "cell_type": "code",
      "metadata": {
        "id": "x8ZkhMKZDcjg"
      },
      "source": [
        "anidada = ['a','Edna','Python',[4,5,['target']]]"
      ],
      "execution_count": null,
      "outputs": []
    },
    {
      "cell_type": "code",
      "metadata": {
        "id": "OHrC8y0SDcjh",
        "colab": {
          "base_uri": "https://localhost:8080/"
        },
        "outputId": "827ede2d-0a5e-4ff6-ceb5-bcbb2aceda28"
      },
      "source": [
        "anidada[3]"
      ],
      "execution_count": null,
      "outputs": [
        {
          "output_type": "execute_result",
          "data": {
            "text/plain": [
              "[4, 5, ['target']]"
            ]
          },
          "metadata": {
            "tags": []
          },
          "execution_count": 119
        }
      ]
    },
    {
      "cell_type": "code",
      "metadata": {
        "id": "ek3utVR1Dcji",
        "colab": {
          "base_uri": "https://localhost:8080/"
        },
        "outputId": "c39cf0a4-0542-40a1-cb62-cf623e2f3434"
      },
      "source": [
        "anidada[3][2]"
      ],
      "execution_count": null,
      "outputs": [
        {
          "output_type": "execute_result",
          "data": {
            "text/plain": [
              "['target']"
            ]
          },
          "metadata": {
            "tags": []
          },
          "execution_count": 120
        }
      ]
    },
    {
      "cell_type": "code",
      "metadata": {
        "id": "IKxiqLhVDcjm",
        "colab": {
          "base_uri": "https://localhost:8080/",
          "height": 35
        },
        "outputId": "ccaa766b-b417-4e27-cf54-d4906c9b5b94"
      },
      "source": [
        "anidada[3][2][0]"
      ],
      "execution_count": null,
      "outputs": [
        {
          "output_type": "execute_result",
          "data": {
            "application/vnd.google.colaboratory.intrinsic+json": {
              "type": "string"
            },
            "text/plain": [
              "'target'"
            ]
          },
          "metadata": {
            "tags": []
          },
          "execution_count": 121
        }
      ]
    },
    {
      "cell_type": "markdown",
      "metadata": {
        "id": "k5IXp8DqDcjp"
      },
      "source": [
        "### Diccionarios\n",
        "\n",
        "Este tipo de dato permite manejar pares **clave** y **valor**, lo cual es muy util en el momento de acceder rápidamente a un elemento."
      ]
    },
    {
      "cell_type": "code",
      "metadata": {
        "id": "Ye1_t3_9Dcjs"
      },
      "source": [
        "d = {'key1':'item1','key2':1000}"
      ],
      "execution_count": null,
      "outputs": []
    },
    {
      "cell_type": "code",
      "metadata": {
        "id": "FejgOggYDcju",
        "colab": {
          "base_uri": "https://localhost:8080/",
          "height": 163
        },
        "outputId": "e9383cf2-b00f-48d6-8424-6864f033c01f"
      },
      "source": [
        "d[0] # no funcionará"
      ],
      "execution_count": null,
      "outputs": [
        {
          "output_type": "error",
          "ename": "KeyError",
          "evalue": "ignored",
          "traceback": [
            "\u001b[0;31m---------------------------------------------------------------------------\u001b[0m",
            "\u001b[0;31mKeyError\u001b[0m                                  Traceback (most recent call last)",
            "\u001b[0;32m<ipython-input-123-384abbd0fc57>\u001b[0m in \u001b[0;36m<module>\u001b[0;34m()\u001b[0m\n\u001b[0;32m----> 1\u001b[0;31m \u001b[0md\u001b[0m\u001b[0;34m[\u001b[0m\u001b[0;36m0\u001b[0m\u001b[0;34m]\u001b[0m \u001b[0;31m# no funcionará\u001b[0m\u001b[0;34m\u001b[0m\u001b[0;34m\u001b[0m\u001b[0m\n\u001b[0m",
            "\u001b[0;31mKeyError\u001b[0m: 0"
          ]
        }
      ]
    },
    {
      "cell_type": "code",
      "metadata": {
        "id": "GyRZdGnmDcjv",
        "colab": {
          "base_uri": "https://localhost:8080/",
          "height": 35
        },
        "outputId": "44622963-21cc-4245-e459-dcb1fd0210ce"
      },
      "source": [
        "d['key1']"
      ],
      "execution_count": null,
      "outputs": [
        {
          "output_type": "execute_result",
          "data": {
            "application/vnd.google.colaboratory.intrinsic+json": {
              "type": "string"
            },
            "text/plain": [
              "'item1'"
            ]
          },
          "metadata": {
            "tags": []
          },
          "execution_count": 124
        }
      ]
    },
    {
      "cell_type": "code",
      "metadata": {
        "id": "nZGA-fAYDcjv",
        "colab": {
          "base_uri": "https://localhost:8080/"
        },
        "outputId": "cc042b05-d31b-41e1-8e06-d1d70e6551c6"
      },
      "source": [
        "d['key2']"
      ],
      "execution_count": null,
      "outputs": [
        {
          "output_type": "execute_result",
          "data": {
            "text/plain": [
              "1000"
            ]
          },
          "metadata": {
            "tags": []
          },
          "execution_count": 125
        }
      ]
    },
    {
      "cell_type": "code",
      "metadata": {
        "id": "oJGnlsKBDcjw",
        "colab": {
          "base_uri": "https://localhost:8080/"
        },
        "outputId": "ab725702-8c64-4c74-9634-ae40dd7487e8"
      },
      "source": [
        "d"
      ],
      "execution_count": null,
      "outputs": [
        {
          "output_type": "execute_result",
          "data": {
            "text/plain": [
              "{'key1': 'item1', 'key2': 1000}"
            ]
          },
          "metadata": {
            "tags": []
          },
          "execution_count": 127
        }
      ]
    },
    {
      "cell_type": "code",
      "metadata": {
        "id": "JSwGGGjPDcjx"
      },
      "source": [
        "d = {'k1':[1, 2, 3, 4, 5], 'k2': 'Hola'}"
      ],
      "execution_count": null,
      "outputs": []
    },
    {
      "cell_type": "code",
      "metadata": {
        "id": "OReVtAxHDcjy",
        "colab": {
          "base_uri": "https://localhost:8080/"
        },
        "outputId": "486fca70-9fdb-4273-8d96-b0c85aa2e10c"
      },
      "source": [
        "d['k1']"
      ],
      "execution_count": null,
      "outputs": [
        {
          "output_type": "execute_result",
          "data": {
            "text/plain": [
              "[1, 2, 3, 4, 5]"
            ]
          },
          "metadata": {
            "tags": []
          },
          "execution_count": 129
        }
      ]
    },
    {
      "cell_type": "code",
      "metadata": {
        "id": "svdAxtpcDcj0"
      },
      "source": [
        "lista = d['k1']"
      ],
      "execution_count": null,
      "outputs": []
    },
    {
      "cell_type": "code",
      "metadata": {
        "id": "Bvz2uDAODcj1",
        "colab": {
          "base_uri": "https://localhost:8080/"
        },
        "outputId": "fba18daa-1c1b-4e0b-91b2-50395fdd80d0"
      },
      "source": [
        "lista"
      ],
      "execution_count": null,
      "outputs": [
        {
          "output_type": "execute_result",
          "data": {
            "text/plain": [
              "[1, 2, 3, 4, 5]"
            ]
          },
          "metadata": {
            "tags": []
          },
          "execution_count": 131
        }
      ]
    },
    {
      "cell_type": "code",
      "metadata": {
        "id": "8I7Cj9iQDcj1",
        "colab": {
          "base_uri": "https://localhost:8080/"
        },
        "outputId": "b3a95599-483b-4cc4-f521-47c3a15dace3"
      },
      "source": [
        "lista[3]"
      ],
      "execution_count": null,
      "outputs": [
        {
          "output_type": "execute_result",
          "data": {
            "text/plain": [
              "4"
            ]
          },
          "metadata": {
            "tags": []
          },
          "execution_count": 133
        }
      ]
    },
    {
      "cell_type": "code",
      "metadata": {
        "id": "sC0oVroSDcjz",
        "colab": {
          "base_uri": "https://localhost:8080/"
        },
        "outputId": "5a121570-ff97-4b2a-8824-2b48d3410ed7"
      },
      "source": [
        "d['k1'][3]"
      ],
      "execution_count": null,
      "outputs": [
        {
          "output_type": "execute_result",
          "data": {
            "text/plain": [
              "4"
            ]
          },
          "metadata": {
            "tags": []
          },
          "execution_count": 135
        }
      ]
    },
    {
      "cell_type": "code",
      "metadata": {
        "id": "6M_WiWTJDcj2"
      },
      "source": [
        "# un diccionario anidado dentro de otro diccionario\n",
        "d = {'Juan':{'Paola':[1, 2, 3, 10]}}"
      ],
      "execution_count": null,
      "outputs": []
    },
    {
      "cell_type": "code",
      "metadata": {
        "id": "PcmONy3sDcj4",
        "colab": {
          "base_uri": "https://localhost:8080/"
        },
        "outputId": "8bf973fe-84e2-4cb4-eb0f-c33f2d213975"
      },
      "source": [
        "d['Juan']"
      ],
      "execution_count": null,
      "outputs": [
        {
          "output_type": "execute_result",
          "data": {
            "text/plain": [
              "{'Paola': [1, 2, 3, 10]}"
            ]
          },
          "metadata": {
            "tags": []
          },
          "execution_count": 144
        }
      ]
    },
    {
      "cell_type": "code",
      "metadata": {
        "id": "b4i2OprmDcj4",
        "colab": {
          "base_uri": "https://localhost:8080/"
        },
        "outputId": "b7c36289-db9c-4798-ddcb-d495f632acc6"
      },
      "source": [
        "d['Juan']['Paola']"
      ],
      "execution_count": null,
      "outputs": [
        {
          "output_type": "execute_result",
          "data": {
            "text/plain": [
              "[1, 2, 3, 10]"
            ]
          },
          "metadata": {
            "tags": []
          },
          "execution_count": 145
        }
      ]
    },
    {
      "cell_type": "code",
      "metadata": {
        "id": "ZqoRw9j9Dcj5",
        "colab": {
          "base_uri": "https://localhost:8080/"
        },
        "outputId": "9e4673e5-de23-4dca-b87f-9bf6cba5a14a"
      },
      "source": [
        "d['Juan']['Paola'][3]"
      ],
      "execution_count": null,
      "outputs": [
        {
          "output_type": "execute_result",
          "data": {
            "text/plain": [
              "10"
            ]
          },
          "metadata": {
            "tags": []
          },
          "execution_count": 146
        }
      ]
    },
    {
      "cell_type": "code",
      "metadata": {
        "colab": {
          "base_uri": "https://localhost:8080/",
          "height": 35
        },
        "id": "7wD1KR33APKP",
        "outputId": "d74671a1-e09a-4668-9b57-9cee37fc6b47"
      },
      "source": [
        "empleados = {\"Nombre\":\"Juan\", \"Apellido\":\"Pérez\",\"Teléfonos\":[\"311111111\",\"31032312123\"]}\n",
        "empleados[\"Teléfonos\"][1]"
      ],
      "execution_count": null,
      "outputs": [
        {
          "output_type": "execute_result",
          "data": {
            "application/vnd.google.colaboratory.intrinsic+json": {
              "type": "string"
            },
            "text/plain": [
              "'31032312123'"
            ]
          },
          "metadata": {
            "tags": []
          },
          "execution_count": 150
        }
      ]
    },
    {
      "cell_type": "markdown",
      "metadata": {
        "id": "ZS7z719KDcj7"
      },
      "source": [
        "### Tuplas \n",
        "\n",
        "Estos son arreglos inmutables de elementos. Es decir que son listas de elementos que no pueden ser modificadas agregando o eliminando elementos."
      ]
    },
    {
      "cell_type": "code",
      "metadata": {
        "id": "pV5rpvkCDcj7"
      },
      "source": [
        "lista = [1, 2, 3]"
      ],
      "execution_count": null,
      "outputs": []
    },
    {
      "cell_type": "code",
      "metadata": {
        "id": "aBH5zuvYDcj8",
        "colab": {
          "base_uri": "https://localhost:8080/"
        },
        "outputId": "873bbfb0-4505-4ecf-deb8-0aa52b628ba0"
      },
      "source": [
        "lista"
      ],
      "execution_count": null,
      "outputs": [
        {
          "output_type": "execute_result",
          "data": {
            "text/plain": [
              "[1, 2, 3]"
            ]
          },
          "metadata": {
            "tags": []
          },
          "execution_count": 152
        }
      ]
    },
    {
      "cell_type": "code",
      "metadata": {
        "id": "SpsmIOvLDcj9"
      },
      "source": [
        "lista [1] = 'Nuevo valor'"
      ],
      "execution_count": null,
      "outputs": []
    },
    {
      "cell_type": "code",
      "metadata": {
        "id": "7V1XBGpDDcj9",
        "colab": {
          "base_uri": "https://localhost:8080/"
        },
        "outputId": "a3435ba8-d65b-481d-e0ff-d9ce05a81a20"
      },
      "source": [
        "lista"
      ],
      "execution_count": null,
      "outputs": [
        {
          "output_type": "execute_result",
          "data": {
            "text/plain": [
              "[1, 'Nuevo valor', 3]"
            ]
          },
          "metadata": {
            "tags": []
          },
          "execution_count": 154
        }
      ]
    },
    {
      "cell_type": "code",
      "metadata": {
        "id": "BusRfoHxDcj-"
      },
      "source": [
        "tupla = (1,2,3)"
      ],
      "execution_count": null,
      "outputs": []
    },
    {
      "cell_type": "code",
      "metadata": {
        "id": "MX0ZtBqiDcj_",
        "colab": {
          "base_uri": "https://localhost:8080/"
        },
        "outputId": "bf2f62cc-92e9-405d-9418-1cac8e0ab8c8"
      },
      "source": [
        "tupla"
      ],
      "execution_count": null,
      "outputs": [
        {
          "output_type": "execute_result",
          "data": {
            "text/plain": [
              "(1, 2, 3)"
            ]
          },
          "metadata": {
            "tags": []
          },
          "execution_count": 156
        }
      ]
    },
    {
      "cell_type": "code",
      "metadata": {
        "id": "mZJbo5IoDckA",
        "colab": {
          "base_uri": "https://localhost:8080/"
        },
        "outputId": "adbb5251-e2a6-488e-e813-456830e5ff70"
      },
      "source": [
        "tupla[0]"
      ],
      "execution_count": null,
      "outputs": [
        {
          "output_type": "execute_result",
          "data": {
            "text/plain": [
              "1"
            ]
          },
          "metadata": {
            "tags": []
          },
          "execution_count": 157
        }
      ]
    },
    {
      "cell_type": "code",
      "metadata": {
        "id": "QkWRmEIzDckA",
        "colab": {
          "base_uri": "https://localhost:8080/",
          "height": 163
        },
        "outputId": "d3f0c21f-7c3c-4c5b-b753-dadf56919462"
      },
      "source": [
        "tupla[0] = 'NEW' # las tuplas son inmutables, no se puede reasignar. Saldrá un error!"
      ],
      "execution_count": null,
      "outputs": [
        {
          "output_type": "error",
          "ename": "TypeError",
          "evalue": "ignored",
          "traceback": [
            "\u001b[0;31m---------------------------------------------------------------------------\u001b[0m",
            "\u001b[0;31mTypeError\u001b[0m                                 Traceback (most recent call last)",
            "\u001b[0;32m<ipython-input-158-e4a3adf66b83>\u001b[0m in \u001b[0;36m<module>\u001b[0;34m()\u001b[0m\n\u001b[0;32m----> 1\u001b[0;31m \u001b[0mtupla\u001b[0m\u001b[0;34m[\u001b[0m\u001b[0;36m0\u001b[0m\u001b[0;34m]\u001b[0m \u001b[0;34m=\u001b[0m \u001b[0;34m'NEW'\u001b[0m \u001b[0;31m# las tuplas son inmutables, no se puede reasignar. Saldrá un error!\u001b[0m\u001b[0;34m\u001b[0m\u001b[0;34m\u001b[0m\u001b[0m\n\u001b[0m",
            "\u001b[0;31mTypeError\u001b[0m: 'tuple' object does not support item assignment"
          ]
        }
      ]
    },
    {
      "cell_type": "code",
      "metadata": {
        "id": "TUd9EzWSDckC",
        "colab": {
          "base_uri": "https://localhost:8080/"
        },
        "outputId": "aa49e986-cc01-48ea-b376-284ad9bb5048"
      },
      "source": [
        "tupla      # las tuplas son inmutables, no se puede reasignar"
      ],
      "execution_count": null,
      "outputs": [
        {
          "output_type": "execute_result",
          "data": {
            "text/plain": [
              "(1, 2, 3)"
            ]
          },
          "metadata": {
            "tags": []
          },
          "execution_count": 159
        }
      ]
    },
    {
      "cell_type": "markdown",
      "metadata": {
        "id": "v8J9-1fkDckD"
      },
      "source": [
        "### Conjuntos (Sets)\n",
        "\n",
        "Es una estructura de datos que permite almacenar colecciones de elementos únicos."
      ]
    },
    {
      "cell_type": "code",
      "metadata": {
        "id": "hAmYOfqyDckD",
        "colab": {
          "base_uri": "https://localhost:8080/"
        },
        "outputId": "69a4a1f0-100e-4de5-b98f-4fe4597ea012"
      },
      "source": [
        "{1,2,3}"
      ],
      "execution_count": null,
      "outputs": [
        {
          "output_type": "execute_result",
          "data": {
            "text/plain": [
              "{1, 2, 3}"
            ]
          },
          "metadata": {
            "tags": []
          },
          "execution_count": 161
        }
      ]
    },
    {
      "cell_type": "code",
      "metadata": {
        "id": "QSiK2W33DckE",
        "colab": {
          "base_uri": "https://localhost:8080/"
        },
        "outputId": "877dcc3d-adde-4ac0-cdd3-eea25a3c7950"
      },
      "source": [
        "{1,2,3,1,2,1,2,3,3,3,3,2,2,2,1,1,2}"
      ],
      "execution_count": null,
      "outputs": [
        {
          "output_type": "execute_result",
          "data": {
            "text/plain": [
              "{1, 2, 3}"
            ]
          },
          "metadata": {
            "tags": []
          },
          "execution_count": 163
        }
      ]
    },
    {
      "cell_type": "code",
      "metadata": {
        "id": "CRpSMKK-DckF",
        "colab": {
          "base_uri": "https://localhost:8080/"
        },
        "outputId": "cc0723fe-e068-431b-c9d1-87051d6d9cf5"
      },
      "source": [
        "set([1, 1, 1, 2, 2, 6, 6, 2, 8, 1])"
      ],
      "execution_count": null,
      "outputs": [
        {
          "output_type": "execute_result",
          "data": {
            "text/plain": [
              "{1, 2, 6, 8}"
            ]
          },
          "metadata": {
            "tags": []
          },
          "execution_count": 164
        }
      ]
    },
    {
      "cell_type": "code",
      "metadata": {
        "id": "2YVVO2sLDckG"
      },
      "source": [
        "s = {1, 2, 3}"
      ],
      "execution_count": null,
      "outputs": []
    },
    {
      "cell_type": "code",
      "metadata": {
        "id": "YAf4fvR8DckI",
        "colab": {
          "base_uri": "https://localhost:8080/"
        },
        "outputId": "ebbcc792-8d38-42a2-a6a3-1354af10c355"
      },
      "source": [
        "s"
      ],
      "execution_count": null,
      "outputs": [
        {
          "output_type": "execute_result",
          "data": {
            "text/plain": [
              "{1, 2, 3}"
            ]
          },
          "metadata": {
            "tags": []
          },
          "execution_count": 166
        }
      ]
    },
    {
      "cell_type": "code",
      "metadata": {
        "id": "ibiCSa5JDckI"
      },
      "source": [
        "s.add(5)"
      ],
      "execution_count": null,
      "outputs": []
    },
    {
      "cell_type": "code",
      "metadata": {
        "id": "xfN1ahoODckK",
        "colab": {
          "base_uri": "https://localhost:8080/"
        },
        "outputId": "5c497826-54fe-442e-90c5-7f7c4add60d6"
      },
      "source": [
        "s"
      ],
      "execution_count": null,
      "outputs": [
        {
          "output_type": "execute_result",
          "data": {
            "text/plain": [
              "{1, 2, 3, 5}"
            ]
          },
          "metadata": {
            "tags": []
          },
          "execution_count": 168
        }
      ]
    },
    {
      "cell_type": "code",
      "metadata": {
        "id": "9YMcHF0SDckK"
      },
      "source": [
        "s.add(5)"
      ],
      "execution_count": null,
      "outputs": []
    },
    {
      "cell_type": "code",
      "metadata": {
        "id": "96GH_zs4DckL",
        "colab": {
          "base_uri": "https://localhost:8080/"
        },
        "outputId": "35d1aef3-8ca0-4279-db72-f14b85ff5149"
      },
      "source": [
        "s"
      ],
      "execution_count": null,
      "outputs": [
        {
          "output_type": "execute_result",
          "data": {
            "text/plain": [
              "{1, 2, 3, 5}"
            ]
          },
          "metadata": {
            "tags": []
          },
          "execution_count": 170
        }
      ]
    },
    {
      "cell_type": "markdown",
      "metadata": {
        "id": "Zdt-77CR-Z-M"
      },
      "source": [
        "# Operadores\n",
        "\n",
        "Los operadores son símbolos especiales en python que llevan a cabo operaciones aritméticas y de cálculo lógico."
      ]
    },
    {
      "cell_type": "markdown",
      "metadata": {
        "id": "6eZBkK_ODckO"
      },
      "source": [
        "## Operadores Relacionales\n",
        "\n",
        "Son operadores para comparar una expresión. Estos retornan True o False según el resultado de la condición a comparar."
      ]
    },
    {
      "cell_type": "code",
      "metadata": {
        "id": "Ejx-mNK9DckP",
        "colab": {
          "base_uri": "https://localhost:8080/"
        },
        "outputId": "c46047b5-b5a6-4148-ceaf-0943d8d308c3"
      },
      "source": [
        "1 > 2"
      ],
      "execution_count": null,
      "outputs": [
        {
          "output_type": "execute_result",
          "data": {
            "text/plain": [
              "False"
            ]
          },
          "metadata": {
            "tags": []
          },
          "execution_count": 171
        }
      ]
    },
    {
      "cell_type": "code",
      "metadata": {
        "id": "J0A10BsgDckP",
        "colab": {
          "base_uri": "https://localhost:8080/"
        },
        "outputId": "3eadb95d-91cb-4320-a93a-0157c29182ea"
      },
      "source": [
        "1 < 2"
      ],
      "execution_count": null,
      "outputs": [
        {
          "output_type": "execute_result",
          "data": {
            "text/plain": [
              "True"
            ]
          },
          "metadata": {
            "tags": []
          },
          "execution_count": 172
        }
      ]
    },
    {
      "cell_type": "code",
      "metadata": {
        "id": "NM_LZQXQDckQ",
        "colab": {
          "base_uri": "https://localhost:8080/"
        },
        "outputId": "59311b2b-2f73-4251-8c9d-1d2265a7c642"
      },
      "source": [
        "1 >= 1"
      ],
      "execution_count": null,
      "outputs": [
        {
          "output_type": "execute_result",
          "data": {
            "text/plain": [
              "True"
            ]
          },
          "metadata": {
            "tags": []
          },
          "execution_count": 175
        }
      ]
    },
    {
      "cell_type": "code",
      "metadata": {
        "id": "Q43o7FI1DckR",
        "colab": {
          "base_uri": "https://localhost:8080/"
        },
        "outputId": "28a0f740-3162-4065-c6a7-08c253b02063"
      },
      "source": [
        "1 <= 4"
      ],
      "execution_count": null,
      "outputs": [
        {
          "output_type": "execute_result",
          "data": {
            "text/plain": [
              "True"
            ]
          },
          "metadata": {
            "tags": []
          },
          "execution_count": 176
        }
      ]
    },
    {
      "cell_type": "code",
      "metadata": {
        "id": "W2IGyZjtDckS",
        "colab": {
          "base_uri": "https://localhost:8080/"
        },
        "outputId": "e72ef5f0-a4ce-40b4-bc98-f176e9563fc4"
      },
      "source": [
        "1 == 1"
      ],
      "execution_count": null,
      "outputs": [
        {
          "output_type": "execute_result",
          "data": {
            "text/plain": [
              "True"
            ]
          },
          "metadata": {
            "tags": []
          },
          "execution_count": 178
        }
      ]
    },
    {
      "cell_type": "code",
      "metadata": {
        "id": "dq2XbMmzDckT",
        "colab": {
          "base_uri": "https://localhost:8080/",
          "height": 129
        },
        "outputId": "f2a1da22-4e5d-4513-9c45-2d43fbf03239"
      },
      "source": [
        "# el operador de igualdad es ==\n",
        "# si usamos = Python lo interpreta como una asignación\n",
        "# y en el siguiente caso falla\n",
        "\n",
        "1 = 1"
      ],
      "execution_count": null,
      "outputs": [
        {
          "output_type": "error",
          "ename": "SyntaxError",
          "evalue": "ignored",
          "traceback": [
            "\u001b[0;36m  File \u001b[0;32m\"<ipython-input-179-ac475bec25a9>\"\u001b[0;36m, line \u001b[0;32m5\u001b[0m\n\u001b[0;31m    1 = 1\u001b[0m\n\u001b[0m         ^\u001b[0m\n\u001b[0;31mSyntaxError\u001b[0m\u001b[0;31m:\u001b[0m can't assign to literal\n"
          ]
        }
      ]
    },
    {
      "cell_type": "code",
      "metadata": {
        "id": "BHZmoW1wDckU",
        "colab": {
          "base_uri": "https://localhost:8080/"
        },
        "outputId": "989eedb1-9534-4986-f338-452d12dee1ff"
      },
      "source": [
        "# el operador de desigualdad es !=\n",
        "10 != 100"
      ],
      "execution_count": null,
      "outputs": [
        {
          "output_type": "execute_result",
          "data": {
            "text/plain": [
              "True"
            ]
          },
          "metadata": {
            "tags": []
          },
          "execution_count": 181
        }
      ]
    },
    {
      "cell_type": "code",
      "metadata": {
        "id": "4vQh0TQODckW",
        "colab": {
          "base_uri": "https://localhost:8080/"
        },
        "outputId": "e7c8d279-7414-4338-a5f9-e20753e54f00"
      },
      "source": [
        "10 != 10"
      ],
      "execution_count": null,
      "outputs": [
        {
          "output_type": "execute_result",
          "data": {
            "text/plain": [
              "False"
            ]
          },
          "metadata": {
            "tags": []
          },
          "execution_count": 182
        }
      ]
    },
    {
      "cell_type": "code",
      "metadata": {
        "id": "hB_Us3jsDckW",
        "colab": {
          "base_uri": "https://localhost:8080/"
        },
        "outputId": "2a44f650-dba6-4d4a-a43c-18d88a9c4748"
      },
      "source": [
        "'hi' == 'bye'"
      ],
      "execution_count": null,
      "outputs": [
        {
          "output_type": "execute_result",
          "data": {
            "text/plain": [
              "False"
            ]
          },
          "metadata": {
            "tags": []
          },
          "execution_count": 183
        }
      ]
    },
    {
      "cell_type": "code",
      "metadata": {
        "id": "r6erYuJDDckX",
        "colab": {
          "base_uri": "https://localhost:8080/"
        },
        "outputId": "cbaf40bb-c4e6-44ee-ae5c-13d96888ddba"
      },
      "source": [
        "[1, 2, 100] == [1, 2, 100]"
      ],
      "execution_count": null,
      "outputs": [
        {
          "output_type": "execute_result",
          "data": {
            "text/plain": [
              "True"
            ]
          },
          "metadata": {
            "tags": []
          },
          "execution_count": 184
        }
      ]
    },
    {
      "cell_type": "code",
      "metadata": {
        "id": "g9rnJoUqDckY",
        "colab": {
          "base_uri": "https://localhost:8080/"
        },
        "outputId": "0c5dc78e-542f-4082-cd0b-cf6d6df9993d"
      },
      "source": [
        "{'k1':1, 'k2':2, 'k3':[3,2,1]} == {'k2':2, 'k3':[1,2,3], 'k1':1}"
      ],
      "execution_count": null,
      "outputs": [
        {
          "output_type": "execute_result",
          "data": {
            "text/plain": [
              "False"
            ]
          },
          "metadata": {
            "tags": []
          },
          "execution_count": 191
        }
      ]
    },
    {
      "cell_type": "markdown",
      "metadata": {
        "id": "f7SX2FYvDckY"
      },
      "source": [
        "## Operadores Lógicos\n",
        "\n",
        "Permiten construir expresiones de comparación lógica, para obtener resultados **True** o **False**."
      ]
    },
    {
      "cell_type": "code",
      "metadata": {
        "id": "r5kIqfpXDckZ",
        "colab": {
          "base_uri": "https://localhost:8080/"
        },
        "outputId": "54b9b18c-b13f-47b7-da9b-f82d8ee41bf5"
      },
      "source": [
        "(1 > 2) and (2 < 3)"
      ],
      "execution_count": null,
      "outputs": [
        {
          "output_type": "execute_result",
          "data": {
            "text/plain": [
              "False"
            ]
          },
          "metadata": {
            "tags": []
          },
          "execution_count": 192
        }
      ]
    },
    {
      "cell_type": "code",
      "metadata": {
        "id": "s_BGwTdkDckb",
        "colab": {
          "base_uri": "https://localhost:8080/"
        },
        "outputId": "dc8a88df-61f6-4453-a101-fd2f691c1c06"
      },
      "source": [
        "(1 > 2) or (2 < 3)"
      ],
      "execution_count": null,
      "outputs": [
        {
          "output_type": "execute_result",
          "data": {
            "text/plain": [
              "True"
            ]
          },
          "metadata": {
            "tags": []
          },
          "execution_count": 193
        }
      ]
    },
    {
      "cell_type": "code",
      "metadata": {
        "id": "UedFVwIVDckb",
        "colab": {
          "base_uri": "https://localhost:8080/"
        },
        "outputId": "70f2c113-3365-4b9c-c007-3c23264c080b"
      },
      "source": [
        "(1 == 2) or (2 == 3) or (4 == 4)"
      ],
      "execution_count": null,
      "outputs": [
        {
          "output_type": "execute_result",
          "data": {
            "text/plain": [
              "True"
            ]
          },
          "metadata": {
            "tags": []
          },
          "execution_count": 194
        }
      ]
    },
    {
      "cell_type": "code",
      "metadata": {
        "id": "qTXBztFbDckc",
        "colab": {
          "base_uri": "https://localhost:8080/"
        },
        "outputId": "121440d2-e4f3-4ac8-e7d1-895d6faac34e"
      },
      "source": [
        "True and True"
      ],
      "execution_count": null,
      "outputs": [
        {
          "output_type": "execute_result",
          "data": {
            "text/plain": [
              "True"
            ]
          },
          "metadata": {
            "tags": []
          },
          "execution_count": 195
        }
      ]
    },
    {
      "cell_type": "code",
      "metadata": {
        "id": "fwQwH_whDckd",
        "colab": {
          "base_uri": "https://localhost:8080/"
        },
        "outputId": "2b281c54-cbbf-4f01-dc35-a05c392909d2"
      },
      "source": [
        "True and False"
      ],
      "execution_count": null,
      "outputs": [
        {
          "output_type": "execute_result",
          "data": {
            "text/plain": [
              "False"
            ]
          },
          "metadata": {
            "tags": []
          },
          "execution_count": 196
        }
      ]
    },
    {
      "cell_type": "code",
      "metadata": {
        "id": "-XtndYW5Dcke",
        "colab": {
          "base_uri": "https://localhost:8080/"
        },
        "outputId": "5a7a866e-adaf-40f5-cce5-d9c70ec58855"
      },
      "source": [
        "False and True"
      ],
      "execution_count": null,
      "outputs": [
        {
          "output_type": "execute_result",
          "data": {
            "text/plain": [
              "False"
            ]
          },
          "metadata": {
            "tags": []
          },
          "execution_count": 197
        }
      ]
    },
    {
      "cell_type": "code",
      "metadata": {
        "id": "4mKWpnIEDckf",
        "colab": {
          "base_uri": "https://localhost:8080/"
        },
        "outputId": "e117d4fe-d906-4119-c1c7-9944a75c325d"
      },
      "source": [
        "False and False"
      ],
      "execution_count": null,
      "outputs": [
        {
          "output_type": "execute_result",
          "data": {
            "text/plain": [
              "False"
            ]
          },
          "metadata": {
            "tags": []
          },
          "execution_count": 198
        }
      ]
    },
    {
      "cell_type": "code",
      "metadata": {
        "id": "AfCV9ZyKDckf",
        "colab": {
          "base_uri": "https://localhost:8080/"
        },
        "outputId": "d28acd87-3465-46e0-8cae-5d7998563816"
      },
      "source": [
        "True or True"
      ],
      "execution_count": null,
      "outputs": [
        {
          "output_type": "execute_result",
          "data": {
            "text/plain": [
              "True"
            ]
          },
          "metadata": {
            "tags": []
          },
          "execution_count": 199
        }
      ]
    },
    {
      "cell_type": "code",
      "metadata": {
        "id": "ylET6Us6Dckg",
        "colab": {
          "base_uri": "https://localhost:8080/"
        },
        "outputId": "bc6f725d-4d4b-435f-b9de-3343fc139e9c"
      },
      "source": [
        "True or False"
      ],
      "execution_count": null,
      "outputs": [
        {
          "output_type": "execute_result",
          "data": {
            "text/plain": [
              "True"
            ]
          },
          "metadata": {
            "tags": []
          },
          "execution_count": 200
        }
      ]
    },
    {
      "cell_type": "code",
      "metadata": {
        "id": "FDxHUUgdDckg",
        "colab": {
          "base_uri": "https://localhost:8080/"
        },
        "outputId": "8d6d66f5-a225-44de-ac24-f2f81f3ab0e0"
      },
      "source": [
        "False or True"
      ],
      "execution_count": null,
      "outputs": [
        {
          "output_type": "execute_result",
          "data": {
            "text/plain": [
              "True"
            ]
          },
          "metadata": {
            "tags": []
          },
          "execution_count": 201
        }
      ]
    },
    {
      "cell_type": "code",
      "metadata": {
        "id": "SovJU54PDckj",
        "colab": {
          "base_uri": "https://localhost:8080/"
        },
        "outputId": "2ba1bbd6-803e-4b48-ce85-7db2ece1446f"
      },
      "source": [
        "False or False"
      ],
      "execution_count": null,
      "outputs": [
        {
          "output_type": "execute_result",
          "data": {
            "text/plain": [
              "False"
            ]
          },
          "metadata": {
            "tags": []
          },
          "execution_count": 202
        }
      ]
    },
    {
      "cell_type": "code",
      "metadata": {
        "id": "_BQbPsGfDckl",
        "colab": {
          "base_uri": "https://localhost:8080/",
          "height": 34
        },
        "outputId": "8d1bcc10-40d6-4610-99e2-b983e50e5f09"
      },
      "source": [
        "not True"
      ],
      "execution_count": null,
      "outputs": [
        {
          "output_type": "execute_result",
          "data": {
            "text/plain": [
              "False"
            ]
          },
          "metadata": {
            "tags": []
          },
          "execution_count": 134
        }
      ]
    },
    {
      "cell_type": "code",
      "metadata": {
        "id": "SFHOb2rgDckm",
        "colab": {
          "base_uri": "https://localhost:8080/"
        },
        "outputId": "8480ebdd-4b20-4321-bc2e-367d69256af8"
      },
      "source": [
        "not False"
      ],
      "execution_count": null,
      "outputs": [
        {
          "output_type": "execute_result",
          "data": {
            "text/plain": [
              "True"
            ]
          },
          "metadata": {
            "tags": []
          },
          "execution_count": 203
        }
      ]
    },
    {
      "cell_type": "code",
      "metadata": {
        "id": "yFBIJjQPDckn",
        "colab": {
          "base_uri": "https://localhost:8080/"
        },
        "outputId": "86f88401-dce7-4bf7-f6f0-4e7a4faacba5"
      },
      "source": [
        "not (1 <= 10)\n",
        "a=True\n",
        "not(a)"
      ],
      "execution_count": null,
      "outputs": [
        {
          "output_type": "execute_result",
          "data": {
            "text/plain": [
              "False"
            ]
          },
          "metadata": {
            "tags": []
          },
          "execution_count": 204
        }
      ]
    },
    {
      "cell_type": "markdown",
      "metadata": {
        "id": "s_EEPRnyDckv"
      },
      "source": [
        "# Control de Flujo\n",
        "\n",
        "Una estructura para control de flujo, es un bloque de código que permite encadenar instrucciones basadas en condiciones.\n",
        "\n",
        "\n"
      ]
    },
    {
      "cell_type": "markdown",
      "metadata": {
        "id": "7sHYMCNTNq6J"
      },
      "source": [
        "### Condicionales: if,elif, else \n",
        "\n",
        "Estos condicionales verifican el resultado de una expresión lógica, si el resultado es verdadero el código identado en el **if** será ejecutado. De otra manera se ejecutará el código **else**."
      ]
    },
    {
      "cell_type": "code",
      "metadata": {
        "id": "E794dYliDckv"
      },
      "source": [
        "if 3 < 2:\n",
        " print('Si')\n",
        " print('Hola')\n",
        " print('Python')"
      ],
      "execution_count": null,
      "outputs": []
    },
    {
      "cell_type": "code",
      "metadata": {
        "id": "fL4SdO_4Dckw"
      },
      "source": [
        "if 1 > 2:\n",
        "    print('Si')"
      ],
      "execution_count": null,
      "outputs": []
    },
    {
      "cell_type": "code",
      "metadata": {
        "id": "-NO6UctQDcky",
        "colab": {
          "base_uri": "https://localhost:8080/"
        },
        "outputId": "38e127d2-8e8f-433b-f2ab-8356613793c4"
      },
      "source": [
        "if 1 < 2:\n",
        "    print('first')\n",
        "else:\n",
        "    print('last')"
      ],
      "execution_count": null,
      "outputs": [
        {
          "output_type": "stream",
          "text": [
            "first\n"
          ],
          "name": "stdout"
        }
      ]
    },
    {
      "cell_type": "code",
      "metadata": {
        "id": "SiG78oRsDckz",
        "colab": {
          "base_uri": "https://localhost:8080/"
        },
        "outputId": "6538128b-60ba-42b6-c460-9cbca3b02ee8"
      },
      "source": [
        "if 1 > 2:\n",
        "    print('first')\n",
        "else:\n",
        "    print('last')"
      ],
      "execution_count": null,
      "outputs": [
        {
          "output_type": "stream",
          "text": [
            "last\n"
          ],
          "name": "stdout"
        }
      ]
    },
    {
      "cell_type": "code",
      "metadata": {
        "id": "T-AVIpW5Dck0",
        "colab": {
          "base_uri": "https://localhost:8080/"
        },
        "outputId": "10da1010-9de6-475b-ab30-b81bc79fc51a"
      },
      "source": [
        "if 1 == 2:\n",
        "    print('first')\n",
        "elif 3 == 3:\n",
        "    print('middle')\n",
        "else:\n",
        "    print('Last')"
      ],
      "execution_count": null,
      "outputs": [
        {
          "output_type": "stream",
          "text": [
            "middle\n"
          ],
          "name": "stdout"
        }
      ]
    },
    {
      "cell_type": "code",
      "metadata": {
        "id": "932c49QrDck0",
        "colab": {
          "base_uri": "https://localhost:8080/"
        },
        "outputId": "0c51a7ea-cf69-4b2e-e35d-f50f1ebafff4"
      },
      "source": [
        "if 1 == 2:\n",
        "    print('first')\n",
        "elif 4 > 0:\n",
        "    print('second')\n",
        "elif 3 == 3:\n",
        "    print('middle')\n",
        "else:\n",
        "    print('Last')"
      ],
      "execution_count": null,
      "outputs": [
        {
          "output_type": "stream",
          "text": [
            "second\n"
          ],
          "name": "stdout"
        }
      ]
    },
    {
      "cell_type": "markdown",
      "metadata": {
        "id": "HMy3uaWADck1"
      },
      "source": [
        "### Ciclo for\n",
        "\n",
        "Esta estructura de control permite ejecutar varias veces una serie de instrucciones. El límite de las repeticiones está definido por el tamaño de una lista generalmente."
      ]
    },
    {
      "cell_type": "code",
      "metadata": {
        "id": "PLrA1x5wDck1"
      },
      "source": [
        "seq = [\"Juan\", 2, 3, 4, 5, 6, 7, 8]"
      ],
      "execution_count": null,
      "outputs": []
    },
    {
      "cell_type": "code",
      "metadata": {
        "id": "JUI_5CS-Dck2",
        "colab": {
          "base_uri": "https://localhost:8080/"
        },
        "outputId": "5b219a34-750a-4db3-f444-a6aae24f11e7"
      },
      "source": [
        "for item in seq:\n",
        "    print(item)"
      ],
      "execution_count": null,
      "outputs": [
        {
          "output_type": "stream",
          "text": [
            "Juan\n",
            "2\n",
            "3\n",
            "4\n",
            "5\n",
            "6\n",
            "7\n",
            "8\n"
          ],
          "name": "stdout"
        }
      ]
    },
    {
      "cell_type": "code",
      "metadata": {
        "id": "-5WVDsrWDck3",
        "colab": {
          "base_uri": "https://localhost:8080/"
        },
        "outputId": "05f00c05-1820-4d67-c467-560c33cd7aae"
      },
      "source": [
        "for i in range(1,8):\n",
        "    print(seq[i])"
      ],
      "execution_count": null,
      "outputs": [
        {
          "output_type": "stream",
          "text": [
            "2\n",
            "3\n",
            "4\n",
            "5\n",
            "6\n",
            "7\n",
            "8\n"
          ],
          "name": "stdout"
        }
      ]
    },
    {
      "cell_type": "code",
      "metadata": {
        "id": "vjUlfaCdDck4"
      },
      "source": [
        "seq = [1,2,3,4,5]"
      ],
      "execution_count": null,
      "outputs": []
    },
    {
      "cell_type": "code",
      "metadata": {
        "id": "wLgyaEUcDck5",
        "colab": {
          "base_uri": "https://localhost:8080/"
        },
        "outputId": "9c091e34-3fd6-4815-92f3-b8fdc94f561c"
      },
      "source": [
        "for num in seq:\n",
        "    print(num+num)"
      ],
      "execution_count": null,
      "outputs": [
        {
          "output_type": "stream",
          "text": [
            "2\n",
            "4\n",
            "6\n",
            "8\n",
            "10\n"
          ],
          "name": "stdout"
        }
      ]
    },
    {
      "cell_type": "markdown",
      "metadata": {
        "id": "ORFuj2hSDck5"
      },
      "source": [
        "### Ciclo while\n",
        "\n",
        "Ejecuta la secuencia de ordenes bajo el **while**, mientras se mantenga la condición de comprobación."
      ]
    },
    {
      "cell_type": "code",
      "metadata": {
        "id": "8Le8Fzk6Dck5",
        "colab": {
          "base_uri": "https://localhost:8080/"
        },
        "outputId": "db69e69b-8144-4990-9e08-49414ffe68b8"
      },
      "source": [
        "i = 1\n",
        "while i < 5:\n",
        "    print('i es igual a: {}'.format(i))\n",
        "    i = i+1"
      ],
      "execution_count": null,
      "outputs": [
        {
          "output_type": "stream",
          "text": [
            "i es igual a: 1\n",
            "i es igual a: 2\n",
            "i es igual a: 3\n",
            "i es igual a: 4\n"
          ],
          "name": "stdout"
        }
      ]
    },
    {
      "cell_type": "code",
      "metadata": {
        "id": "nfmV7MkCiDs3"
      },
      "source": [
        ""
      ],
      "execution_count": null,
      "outputs": []
    },
    {
      "cell_type": "code",
      "metadata": {
        "id": "N-xeCRgXgpod"
      },
      "source": [
        ""
      ],
      "execution_count": null,
      "outputs": []
    }
  ]
}