{
  "nbformat": 4,
  "nbformat_minor": 0,
  "metadata": {
    "colab": {
      "name": "Python_Funciones.ipynb",
      "provenance": [],
      "collapsed_sections": [],
      "include_colab_link": true
    },
    "kernelspec": {
      "display_name": "Python 3",
      "language": "python",
      "name": "python3"
    },
    "accelerator": "GPU"
  },
  "cells": [
    {
      "cell_type": "markdown",
      "metadata": {
        "id": "view-in-github",
        "colab_type": "text"
      },
      "source": [
        "<a href=\"https://colab.research.google.com/github/Andreamh24/Cargar-datos-google-colab/blob/master/Python_Funciones.ipynb\" target=\"_parent\"><img src=\"https://colab.research.google.com/assets/colab-badge.svg\" alt=\"Open In Colab\"/></a>"
      ]
    },
    {
      "cell_type": "markdown",
      "metadata": {
        "id": "LXlv9Mj9-1QE"
      },
      "source": [
        "# Funciones\n",
        "\n",
        "Una función, es la forma de agrupar expresiones para realizar  determinadas acciones. \n",
        "\n",
        "La ejecucución de éstas depende que sea llamado el bloque que las define. "
      ]
    },
    {
      "cell_type": "markdown",
      "metadata": {
        "id": "GD0iKA88DclK"
      },
      "source": [
        "## Definición de Funciones\n",
        "\n",
        "En Python, la definición de funciones se realiza mediante la instrucción def más un nombre de función descriptivo.\n",
        "\n",
        "La definición de la función finaliza con dos puntos (:)\n",
        "\n"
      ]
    },
    {
      "cell_type": "code",
      "metadata": {
        "id": "NyE9YtbaDclK"
      },
      "source": [
        "def my_func(param1='por defecto'):\n",
        "    \"\"\"\n",
        "    Aquí irá la documentación\n",
        "    param1: explicación del parámetro 1\n",
        "    \"\"\"\n",
        "    print(param1)"
      ],
      "execution_count": null,
      "outputs": []
    },
    {
      "cell_type": "code",
      "metadata": {
        "id": "7jY8vLLsDclM",
        "colab": {
          "base_uri": "https://localhost:8080/"
        },
        "outputId": "b5082d13-d1d3-4483-c35b-2d740f574b96"
      },
      "source": [
        "my_func"
      ],
      "execution_count": null,
      "outputs": [
        {
          "output_type": "execute_result",
          "data": {
            "text/plain": [
              "<function __main__.my_func>"
            ]
          },
          "metadata": {
            "tags": []
          },
          "execution_count": 7
        }
      ]
    },
    {
      "cell_type": "code",
      "metadata": {
        "id": "nt34DpTPDclN",
        "colab": {
          "base_uri": "https://localhost:8080/"
        },
        "outputId": "b1e4a35d-ed5b-4b87-9551-e3a2abb3b8c6"
      },
      "source": [
        "my_func()"
      ],
      "execution_count": null,
      "outputs": [
        {
          "output_type": "stream",
          "text": [
            "por defecto\n"
          ],
          "name": "stdout"
        }
      ]
    },
    {
      "cell_type": "code",
      "metadata": {
        "id": "BuF7tmG1DclN",
        "colab": {
          "base_uri": "https://localhost:8080/"
        },
        "outputId": "18ca0502-738a-4b24-8973-c537a6d95160"
      },
      "source": [
        "my_func('nuevo parametro')"
      ],
      "execution_count": null,
      "outputs": [
        {
          "output_type": "stream",
          "text": [
            "nuevo parametro\n"
          ],
          "name": "stdout"
        }
      ]
    },
    {
      "cell_type": "code",
      "metadata": {
        "id": "2MRHJcX7DclO",
        "colab": {
          "base_uri": "https://localhost:8080/"
        },
        "outputId": "b52149d4-92bd-49f4-a503-822213a865cd"
      },
      "source": [
        "my_func(param1='otro parametro')"
      ],
      "execution_count": null,
      "outputs": [
        {
          "output_type": "stream",
          "text": [
            "otro parametro\n"
          ],
          "name": "stdout"
        }
      ]
    },
    {
      "cell_type": "code",
      "metadata": {
        "id": "6M-2n30_DclQ"
      },
      "source": [
        "def saludar(nombre):\n",
        "    print('Hola ' + nombre)"
      ],
      "execution_count": null,
      "outputs": []
    },
    {
      "cell_type": "code",
      "metadata": {
        "id": "ZGlveH2sDclR",
        "colab": {
          "base_uri": "https://localhost:8080/"
        },
        "outputId": "ca7f19bc-5d88-4931-cc56-5611fed546e1"
      },
      "source": [
        "saludar('Jorge')"
      ],
      "execution_count": null,
      "outputs": [
        {
          "output_type": "stream",
          "text": [
            "Hola Jorge\n"
          ],
          "name": "stdout"
        }
      ]
    },
    {
      "cell_type": "code",
      "metadata": {
        "id": "XONROccMDclR"
      },
      "source": [
        "def square(x):\n",
        "    return x**2"
      ],
      "execution_count": null,
      "outputs": []
    },
    {
      "cell_type": "code",
      "metadata": {
        "id": "hdGUQTgeDclS"
      },
      "source": [
        "out = square(100)"
      ],
      "execution_count": null,
      "outputs": []
    },
    {
      "cell_type": "code",
      "metadata": {
        "id": "QTNxENIFDclS",
        "colab": {
          "base_uri": "https://localhost:8080/"
        },
        "outputId": "c98a95f4-a4d6-4f75-dcd5-66d7b07ff6df"
      },
      "source": [
        "print(out)"
      ],
      "execution_count": null,
      "outputs": [
        {
          "output_type": "stream",
          "text": [
            "10000\n"
          ],
          "name": "stdout"
        }
      ]
    },
    {
      "cell_type": "code",
      "metadata": {
        "id": "UA237qnZDclS"
      },
      "source": [
        "def square(x):\n",
        "    \"\"\"\n",
        "    Esta es la documentación de la función.\n",
        "    Puede tener múltiples líneas.\n",
        "    La función square retorna un número x elevado al cuadrado.\n",
        "    \"\"\"\n",
        "    return x**2"
      ],
      "execution_count": null,
      "outputs": []
    },
    {
      "cell_type": "code",
      "metadata": {
        "id": "s6zsuEILDclU"
      },
      "source": [
        "# Puedo ver la documentación con TAB\n",
        "square?"
      ],
      "execution_count": null,
      "outputs": []
    },
    {
      "cell_type": "code",
      "metadata": {
        "id": "hV6Zbl7FnoXu"
      },
      "source": [
        "def potencia(x):\n",
        "  \"\"\"\n",
        "  La función potencia retorna 2 elevado al parámetro x que recibe\n",
        "  \"\"\"\n",
        "  return 2**x\n"
      ],
      "execution_count": null,
      "outputs": []
    },
    {
      "cell_type": "code",
      "metadata": {
        "id": "e4tB03M3nxPc"
      },
      "source": [
        "for x in range(0,100):\n",
        "  print(potencia(x))"
      ],
      "execution_count": null,
      "outputs": []
    },
    {
      "cell_type": "code",
      "metadata": {
        "id": "18_GQlbsnv37"
      },
      "source": [
        ""
      ],
      "execution_count": null,
      "outputs": []
    },
    {
      "cell_type": "code",
      "metadata": {
        "id": "eGh8JrArDclU"
      },
      "source": [
        "# Ver documentación de otra función, por ejemplo: range\n",
        "range?"
      ],
      "execution_count": null,
      "outputs": []
    },
    {
      "cell_type": "code",
      "metadata": {
        "id": "J96OO9K7wuIp",
        "colab": {
          "base_uri": "https://localhost:8080/"
        },
        "outputId": "525b0ceb-63be-4a56-9c33-1d26879e8660"
      },
      "source": [
        "range(10)"
      ],
      "execution_count": null,
      "outputs": [
        {
          "output_type": "execute_result",
          "data": {
            "text/plain": [
              "range(0, 10)"
            ]
          },
          "metadata": {
            "tags": []
          },
          "execution_count": 35
        }
      ]
    },
    {
      "cell_type": "code",
      "metadata": {
        "id": "ZEJuVF6IwuIq",
        "colab": {
          "base_uri": "https://localhost:8080/"
        },
        "outputId": "4b08ab10-2d54-45da-b0d7-658b2de3f218"
      },
      "source": [
        "list(range(10))"
      ],
      "execution_count": null,
      "outputs": [
        {
          "output_type": "execute_result",
          "data": {
            "text/plain": [
              "[0, 1, 2, 3, 4, 5, 6, 7, 8, 9]"
            ]
          },
          "metadata": {
            "tags": []
          },
          "execution_count": 36
        }
      ]
    },
    {
      "cell_type": "code",
      "metadata": {
        "id": "4u9vgP7bwuIq",
        "colab": {
          "base_uri": "https://localhost:8080/"
        },
        "outputId": "483fa411-deb6-4098-d508-63083af145fb"
      },
      "source": [
        "list(range(10,20,2))"
      ],
      "execution_count": null,
      "outputs": [
        {
          "output_type": "execute_result",
          "data": {
            "text/plain": [
              "[10, 12, 14, 16, 18]"
            ]
          },
          "metadata": {
            "tags": []
          },
          "execution_count": 37
        }
      ]
    },
    {
      "cell_type": "code",
      "metadata": {
        "id": "4GPstSp_Dck8",
        "colab": {
          "base_uri": "https://localhost:8080/"
        },
        "outputId": "dfbec863-d56f-4fba-e513-b8d11a1eb7ca"
      },
      "source": [
        "range(5)"
      ],
      "execution_count": null,
      "outputs": [
        {
          "output_type": "execute_result",
          "data": {
            "text/plain": [
              "range(0, 5)"
            ]
          },
          "metadata": {
            "tags": []
          },
          "execution_count": 38
        }
      ]
    },
    {
      "cell_type": "code",
      "metadata": {
        "id": "tqLFs4r7Dck8",
        "colab": {
          "base_uri": "https://localhost:8080/"
        },
        "outputId": "cc68c761-1efc-4b52-c40f-68d37ba6f662"
      },
      "source": [
        "for i in range(5):\n",
        "    print(i)"
      ],
      "execution_count": null,
      "outputs": [
        {
          "output_type": "stream",
          "text": [
            "0\n",
            "1\n",
            "2\n",
            "3\n",
            "4\n"
          ],
          "name": "stdout"
        }
      ]
    },
    {
      "cell_type": "code",
      "metadata": {
        "id": "c_q6UGYGDck-",
        "colab": {
          "base_uri": "https://localhost:8080/"
        },
        "outputId": "9739db97-282f-4981-d7e9-217557717977"
      },
      "source": [
        "list(range(5))"
      ],
      "execution_count": null,
      "outputs": [
        {
          "output_type": "execute_result",
          "data": {
            "text/plain": [
              "[0, 1, 2, 3, 4]"
            ]
          },
          "metadata": {
            "tags": []
          },
          "execution_count": 42
        }
      ]
    },
    {
      "cell_type": "markdown",
      "metadata": {
        "id": "mG476TcMu7uP"
      },
      "source": [
        "## Fecha\n",
        "\n",
        "Python también permite operar con tipos de datos fecha 'date', de manera simple y eficaz."
      ]
    },
    {
      "cell_type": "code",
      "metadata": {
        "id": "6zXnc9SbDckp"
      },
      "source": [
        "from datetime import datetime"
      ],
      "execution_count": null,
      "outputs": []
    },
    {
      "cell_type": "code",
      "metadata": {
        "id": "aT67wftEDckq"
      },
      "source": [
        "now = datetime.now()"
      ],
      "execution_count": null,
      "outputs": []
    },
    {
      "cell_type": "code",
      "metadata": {
        "id": "cXqhoVuPDckr",
        "colab": {
          "base_uri": "https://localhost:8080/"
        },
        "outputId": "dd91adf2-a3d4-4e86-f5f8-415a7bf4ea2f"
      },
      "source": [
        "now"
      ],
      "execution_count": null,
      "outputs": [
        {
          "output_type": "execute_result",
          "data": {
            "text/plain": [
              "datetime.datetime(2021, 8, 7, 1, 26, 0, 653079)"
            ]
          },
          "metadata": {
            "tags": []
          },
          "execution_count": 45
        }
      ]
    },
    {
      "cell_type": "code",
      "metadata": {
        "id": "BTsVAjC5Dckr",
        "colab": {
          "base_uri": "https://localhost:8080/"
        },
        "outputId": "c318d9a9-13fb-44d4-d224-0e31ed3414bf"
      },
      "source": [
        "now.year"
      ],
      "execution_count": null,
      "outputs": [
        {
          "output_type": "execute_result",
          "data": {
            "text/plain": [
              "2021"
            ]
          },
          "metadata": {
            "tags": []
          },
          "execution_count": 46
        }
      ]
    },
    {
      "cell_type": "code",
      "metadata": {
        "id": "u1OAawmvDcks",
        "colab": {
          "base_uri": "https://localhost:8080/"
        },
        "outputId": "cb02bff4-4144-49e1-80ae-fb6e18b21829"
      },
      "source": [
        "now.month"
      ],
      "execution_count": null,
      "outputs": [
        {
          "output_type": "execute_result",
          "data": {
            "text/plain": [
              "8"
            ]
          },
          "metadata": {
            "tags": []
          },
          "execution_count": 47
        }
      ]
    },
    {
      "cell_type": "code",
      "metadata": {
        "id": "Ys0uLDj2Dckt",
        "colab": {
          "base_uri": "https://localhost:8080/"
        },
        "outputId": "009f16b8-fa7f-4f05-e4d5-32baccdfe5c6"
      },
      "source": [
        "now.day"
      ],
      "execution_count": null,
      "outputs": [
        {
          "output_type": "execute_result",
          "data": {
            "text/plain": [
              "7"
            ]
          },
          "metadata": {
            "tags": []
          },
          "execution_count": 48
        }
      ]
    },
    {
      "cell_type": "code",
      "metadata": {
        "id": "_6hP8aqXDcku",
        "colab": {
          "base_uri": "https://localhost:8080/"
        },
        "outputId": "a0137e35-7bcf-4d7c-aa6e-5eb142a1507d"
      },
      "source": [
        "print ('Fecha: %s/%s/%s Hora: %s:%s' % (now.day, now.month, now.year, now.hour, now.minute))"
      ],
      "execution_count": null,
      "outputs": [
        {
          "output_type": "stream",
          "text": [
            "Fecha: 7/8/2021 Hora: 1:26\n"
          ],
          "name": "stdout"
        }
      ]
    },
    {
      "cell_type": "code",
      "metadata": {
        "id": "y3RfgPHIlmOD",
        "colab": {
          "base_uri": "https://localhost:8080/",
          "height": 35
        },
        "outputId": "0fb22339-e592-4e3b-c610-8c86ccb54314"
      },
      "source": [
        "import datetime\n",
        "mydate = datetime.datetime.now()\n",
        "mydate.strftime(\"%B\")"
      ],
      "execution_count": null,
      "outputs": [
        {
          "output_type": "execute_result",
          "data": {
            "application/vnd.google.colaboratory.intrinsic+json": {
              "type": "string"
            },
            "text/plain": [
              "'August'"
            ]
          },
          "metadata": {
            "tags": []
          },
          "execution_count": 50
        }
      ]
    },
    {
      "cell_type": "markdown",
      "metadata": {
        "id": "CATEgOIiDclA"
      },
      "source": [
        "## Listas por comprensión (list comprehension)"
      ]
    },
    {
      "cell_type": "code",
      "metadata": {
        "id": "fVXt9hgYDclA"
      },
      "source": [
        "x = [1,2,3,4]"
      ],
      "execution_count": null,
      "outputs": []
    },
    {
      "cell_type": "code",
      "metadata": {
        "id": "R7f8oFmYDclB",
        "colab": {
          "base_uri": "https://localhost:8080/"
        },
        "outputId": "3027d41b-052b-474a-efc2-19ee369d2c76"
      },
      "source": [
        "out = []\n",
        "for item in x:\n",
        "    out.append(item**2)\n",
        "print(out)"
      ],
      "execution_count": null,
      "outputs": [
        {
          "output_type": "stream",
          "text": [
            "[1, 4, 9, 16]\n"
          ],
          "name": "stdout"
        }
      ]
    },
    {
      "cell_type": "code",
      "metadata": {
        "id": "-PiWerzNDclD",
        "colab": {
          "base_uri": "https://localhost:8080/"
        },
        "outputId": "d81292eb-1c87-4c81-e8e5-b4e7308ad50a"
      },
      "source": [
        "[item**2 for item in x]"
      ],
      "execution_count": null,
      "outputs": [
        {
          "output_type": "execute_result",
          "data": {
            "text/plain": [
              "[1, 4, 9, 16]"
            ]
          },
          "metadata": {
            "tags": []
          },
          "execution_count": 57
        }
      ]
    },
    {
      "cell_type": "code",
      "metadata": {
        "id": "2cOX014-DclE"
      },
      "source": [
        "out = [item**2 for item in x]"
      ],
      "execution_count": null,
      "outputs": []
    },
    {
      "cell_type": "code",
      "metadata": {
        "id": "ZA4Z9Zx0DclF",
        "colab": {
          "base_uri": "https://localhost:8080/"
        },
        "outputId": "9ae2db9d-1490-4a4f-b9dd-dfce777880fb"
      },
      "source": [
        "out"
      ],
      "execution_count": null,
      "outputs": [
        {
          "output_type": "execute_result",
          "data": {
            "text/plain": [
              "[1, 4, 9, 16]"
            ]
          },
          "metadata": {
            "tags": []
          },
          "execution_count": 59
        }
      ]
    },
    {
      "cell_type": "code",
      "metadata": {
        "id": "6-Lse_l8DclH"
      },
      "source": [
        "cubos = [x ** 3 for x in range(10)]"
      ],
      "execution_count": null,
      "outputs": []
    },
    {
      "cell_type": "code",
      "metadata": {
        "id": "KGE8PsYODclH",
        "colab": {
          "base_uri": "https://localhost:8080/"
        },
        "outputId": "6c2698f1-dd89-415a-bccc-1bb88feb0ac4"
      },
      "source": [
        "cubos"
      ],
      "execution_count": null,
      "outputs": [
        {
          "output_type": "execute_result",
          "data": {
            "text/plain": [
              "[0, 1, 8, 27, 64, 125, 216, 343, 512, 729]"
            ]
          },
          "metadata": {
            "tags": []
          },
          "execution_count": 61
        }
      ]
    },
    {
      "cell_type": "code",
      "metadata": {
        "id": "-POt6WA6cnuy"
      },
      "source": [
        ""
      ],
      "execution_count": null,
      "outputs": []
    },
    {
      "cell_type": "code",
      "metadata": {
        "id": "S63GTvr3DclI"
      },
      "source": [
        "multiplos_tres_cinco = [x for x in range(1, 50) if x % 3 == 0 and x % 5 == 0]"
      ],
      "execution_count": null,
      "outputs": []
    },
    {
      "cell_type": "code",
      "metadata": {
        "id": "Wo7NJ6T7DclK",
        "colab": {
          "base_uri": "https://localhost:8080/"
        },
        "outputId": "129982da-a49e-4935-ba71-b23f9553c2e4"
      },
      "source": [
        "multiplos_tres_cinco"
      ],
      "execution_count": null,
      "outputs": [
        {
          "output_type": "execute_result",
          "data": {
            "text/plain": [
              "[15, 30, 45]"
            ]
          },
          "metadata": {
            "tags": []
          },
          "execution_count": 66
        }
      ]
    },
    {
      "cell_type": "markdown",
      "metadata": {
        "id": "72hTb8QXPSVV"
      },
      "source": [
        "#Ejercicio\n",
        "\n",
        "Encontrar los números entre 1 y 1000 en los que el módulo 7 y módulo 9 sean cero"
      ]
    },
    {
      "cell_type": "code",
      "metadata": {
        "colab": {
          "base_uri": "https://localhost:8080/"
        },
        "id": "hASr4o1zPRPa",
        "outputId": "eadc4fcb-55d1-4f79-db75-7133def189c5"
      },
      "source": [
        "multiplos_siete_nueve = [x for x in range(1, 1000) if x % 7 == 0 and x % 9 == 0]\n",
        "multiplos_siete_nueve"
      ],
      "execution_count": null,
      "outputs": [
        {
          "output_type": "execute_result",
          "data": {
            "text/plain": [
              "[63, 126, 189, 252, 315, 378, 441, 504, 567, 630, 693, 756, 819, 882, 945]"
            ]
          },
          "metadata": {
            "tags": []
          },
          "execution_count": 68
        }
      ]
    },
    {
      "cell_type": "markdown",
      "metadata": {
        "id": "A9hagHupDclY"
      },
      "source": [
        "## Expresiones lambda\n",
        "\n",
        "Para crear funciones de manera rápida **just in time**, como por ejemplo para la definición de prototipos. \n"
      ]
    },
    {
      "cell_type": "code",
      "metadata": {
        "id": "JZz94MI7DclY"
      },
      "source": [
        "def times2(var):\n",
        "  return var*2"
      ],
      "execution_count": null,
      "outputs": []
    },
    {
      "cell_type": "code",
      "metadata": {
        "id": "XZYziVaWDclZ",
        "colab": {
          "base_uri": "https://localhost:8080/"
        },
        "outputId": "3457b13d-b6ee-485e-af5d-d20924d4eab0"
      },
      "source": [
        "times2(2)"
      ],
      "execution_count": null,
      "outputs": [
        {
          "output_type": "execute_result",
          "data": {
            "text/plain": [
              "4"
            ]
          },
          "metadata": {
            "tags": []
          },
          "execution_count": 70
        }
      ]
    },
    {
      "cell_type": "code",
      "metadata": {
        "id": "bE_g14fpDclZ",
        "colab": {
          "base_uri": "https://localhost:8080/"
        },
        "outputId": "b61ee4d4-cccd-4837-af0d-816f73c3b83e"
      },
      "source": [
        "lambda var: var*2"
      ],
      "execution_count": null,
      "outputs": [
        {
          "output_type": "execute_result",
          "data": {
            "text/plain": [
              "<function __main__.<lambda>>"
            ]
          },
          "metadata": {
            "tags": []
          },
          "execution_count": 71
        }
      ]
    },
    {
      "cell_type": "code",
      "metadata": {
        "id": "HbhiD8ZZDcla"
      },
      "source": [
        "t = lambda var: var*2"
      ],
      "execution_count": null,
      "outputs": []
    },
    {
      "cell_type": "code",
      "metadata": {
        "id": "NNJwxoabDcla",
        "colab": {
          "base_uri": "https://localhost:8080/"
        },
        "outputId": "80e43f6f-32c8-48cc-8af7-dfcbdb9374bd"
      },
      "source": [
        "t(20)"
      ],
      "execution_count": null,
      "outputs": [
        {
          "output_type": "execute_result",
          "data": {
            "text/plain": [
              "40"
            ]
          },
          "metadata": {
            "tags": []
          },
          "execution_count": 73
        }
      ]
    },
    {
      "cell_type": "code",
      "metadata": {
        "id": "IMJd2h2mwuIw"
      },
      "source": [
        "otra = lambda var1,var2: (var1 + var2)**2"
      ],
      "execution_count": null,
      "outputs": []
    },
    {
      "cell_type": "code",
      "metadata": {
        "id": "JX7cWHfpwuIx",
        "colab": {
          "base_uri": "https://localhost:8080/"
        },
        "outputId": "b0dad791-c7ab-447f-be2a-547bcbb1ad1d"
      },
      "source": [
        "otra(2,3)"
      ],
      "execution_count": null,
      "outputs": [
        {
          "output_type": "execute_result",
          "data": {
            "text/plain": [
              "25"
            ]
          },
          "metadata": {
            "tags": []
          },
          "execution_count": 75
        }
      ]
    },
    {
      "cell_type": "markdown",
      "metadata": {
        "id": "Z68hUiuiDclc"
      },
      "source": [
        "## map y filter\n",
        "\n",
        "El operador **map**, toma una función y una secuencia como  argumentos, y devuelve una secuencia con  la función aplicada a cada elemento. \n",
        "\n",
        "El operado **filter**, ofrece una forma de filtrar todos los elementos de una lista."
      ]
    },
    {
      "cell_type": "code",
      "metadata": {
        "id": "mmiYT-dzDclc"
      },
      "source": [
        "seq = [1, 2, 3, 4, 5]"
      ],
      "execution_count": null,
      "outputs": []
    },
    {
      "cell_type": "code",
      "metadata": {
        "id": "XzKrjhqKDcle",
        "colab": {
          "base_uri": "https://localhost:8080/"
        },
        "outputId": "a2d891a8-e14a-4dc9-e12b-1818bb01d16f"
      },
      "source": [
        "map(times2,seq)"
      ],
      "execution_count": null,
      "outputs": [
        {
          "output_type": "execute_result",
          "data": {
            "text/plain": [
              "<map at 0x7fb854241ed0>"
            ]
          },
          "metadata": {
            "tags": []
          },
          "execution_count": 78
        }
      ]
    },
    {
      "cell_type": "code",
      "metadata": {
        "id": "G-ogw60uDclf",
        "colab": {
          "base_uri": "https://localhost:8080/"
        },
        "outputId": "131e35da-5615-4a93-cbb6-018424d0e32f"
      },
      "source": [
        "list(map(times2,seq))"
      ],
      "execution_count": null,
      "outputs": [
        {
          "output_type": "execute_result",
          "data": {
            "text/plain": [
              "[2, 4, 6, 8, 10]"
            ]
          },
          "metadata": {
            "tags": []
          },
          "execution_count": 79
        }
      ]
    },
    {
      "cell_type": "code",
      "metadata": {
        "id": "CS8AOZDYDclf",
        "colab": {
          "base_uri": "https://localhost:8080/"
        },
        "outputId": "2954267e-b244-4b68-993c-88949dc6b8d8"
      },
      "source": [
        "list(map(lambda var: var*3, seq))"
      ],
      "execution_count": null,
      "outputs": [
        {
          "output_type": "execute_result",
          "data": {
            "text/plain": [
              "[3, 6, 9, 12, 15]"
            ]
          },
          "metadata": {
            "tags": []
          },
          "execution_count": 80
        }
      ]
    },
    {
      "cell_type": "code",
      "metadata": {
        "id": "tCO6ahN1Dclg",
        "colab": {
          "base_uri": "https://localhost:8080/"
        },
        "outputId": "fcc91776-431f-4daa-d81a-128ad20e1306"
      },
      "source": [
        "filter(lambda item: item%2 == 0, seq)"
      ],
      "execution_count": null,
      "outputs": [
        {
          "output_type": "execute_result",
          "data": {
            "text/plain": [
              "<filter at 0x7fb854258910>"
            ]
          },
          "metadata": {
            "tags": []
          },
          "execution_count": 81
        }
      ]
    },
    {
      "cell_type": "code",
      "metadata": {
        "id": "VmxhyL6YDclh",
        "colab": {
          "base_uri": "https://localhost:8080/"
        },
        "outputId": "6808c740-6d61-473d-fe1c-4655028b7972"
      },
      "source": [
        "list(filter(lambda item: item%2 == 0, seq))"
      ],
      "execution_count": null,
      "outputs": [
        {
          "output_type": "execute_result",
          "data": {
            "text/plain": [
              "[2, 4]"
            ]
          },
          "metadata": {
            "tags": []
          },
          "execution_count": 83
        }
      ]
    },
    {
      "cell_type": "code",
      "metadata": {
        "id": "N0zKf8NgDclj"
      },
      "source": [
        "my_list = range(16)"
      ],
      "execution_count": null,
      "outputs": []
    },
    {
      "cell_type": "code",
      "metadata": {
        "id": "wswTiRk9Dclk",
        "colab": {
          "base_uri": "https://localhost:8080/"
        },
        "outputId": "6f71725f-82c1-4e92-c1b1-4bf98a982bc3"
      },
      "source": [
        "list(filter(lambda x: x % 3 == 0, my_list))"
      ],
      "execution_count": null,
      "outputs": [
        {
          "output_type": "execute_result",
          "data": {
            "text/plain": [
              "[0, 3, 6, 9, 12, 15]"
            ]
          },
          "metadata": {
            "tags": []
          },
          "execution_count": 85
        }
      ]
    },
    {
      "cell_type": "code",
      "metadata": {
        "id": "Lip8yWwxDclk",
        "colab": {
          "base_uri": "https://localhost:8080/"
        },
        "outputId": "3b6c063e-dcd9-4455-941f-dc24cd7587cc"
      },
      "source": [
        "oculto = \"IXXX aXXmX aXXXnXoXXXXXtXhXeXXXXrX sXXXXeXcXXXrXeXt mXXeXsXXXsXaXXXXXXgXeX!XX\"\n",
        "\n",
        "mensaje = filter(lambda a: a != \"X\", oculto)\n",
        "print(''.join(mensaje))"
      ],
      "execution_count": null,
      "outputs": [
        {
          "output_type": "stream",
          "text": [
            "I am another secret message!\n"
          ],
          "name": "stdout"
        }
      ]
    },
    {
      "cell_type": "markdown",
      "metadata": {
        "id": "xMH3l8h5Dcll"
      },
      "source": [
        "## Métodos Python \n",
        "\n",
        "Python viene por defecto con bastantes funciones ùtiles para manejo de datos.\n",
        "\n",
        "Veremos algunas."
      ]
    },
    {
      "cell_type": "code",
      "metadata": {
        "id": "b9Yog5hVDcll"
      },
      "source": [
        "st = 'HOLA! mi nombre es Jorge'"
      ],
      "execution_count": null,
      "outputs": []
    },
    {
      "cell_type": "code",
      "metadata": {
        "id": "yFzv0m9NDcll",
        "colab": {
          "base_uri": "https://localhost:8080/",
          "height": 35
        },
        "outputId": "e74828bd-86e2-4df4-a2b0-51674d5e452f"
      },
      "source": [
        "st.lower()"
      ],
      "execution_count": null,
      "outputs": [
        {
          "output_type": "execute_result",
          "data": {
            "application/vnd.google.colaboratory.intrinsic+json": {
              "type": "string"
            },
            "text/plain": [
              "'hola! mi nombre es jorge'"
            ]
          },
          "metadata": {
            "tags": []
          },
          "execution_count": 95
        }
      ]
    },
    {
      "cell_type": "code",
      "metadata": {
        "id": "gwf9B3_BDcll",
        "colab": {
          "base_uri": "https://localhost:8080/",
          "height": 35
        },
        "outputId": "38612cce-e5b1-453e-f1c6-c6c965351607"
      },
      "source": [
        "st.upper()"
      ],
      "execution_count": null,
      "outputs": [
        {
          "output_type": "execute_result",
          "data": {
            "application/vnd.google.colaboratory.intrinsic+json": {
              "type": "string"
            },
            "text/plain": [
              "'HOLA! MI NOMBRE ES JORGE'"
            ]
          },
          "metadata": {
            "tags": []
          },
          "execution_count": 96
        }
      ]
    },
    {
      "cell_type": "code",
      "metadata": {
        "id": "EWQeveqADclm",
        "colab": {
          "base_uri": "https://localhost:8080/"
        },
        "outputId": "e066aeca-3af8-4f6c-d92d-a13f9e357c9a"
      },
      "source": [
        "st.split()"
      ],
      "execution_count": null,
      "outputs": [
        {
          "output_type": "execute_result",
          "data": {
            "text/plain": [
              "['HOLA!', 'mi', 'nombre', 'es', 'Jorge']"
            ]
          },
          "metadata": {
            "tags": []
          },
          "execution_count": 98
        }
      ]
    },
    {
      "cell_type": "code",
      "metadata": {
        "id": "__P7kfaxDclm"
      },
      "source": [
        "tweet = 'Curso AVD Python! #MejorCurso'"
      ],
      "execution_count": null,
      "outputs": []
    },
    {
      "cell_type": "code",
      "metadata": {
        "id": "gpobfonTDcln",
        "colab": {
          "base_uri": "https://localhost:8080/"
        },
        "outputId": "8dc8aee3-92f4-4b4c-c955-a203825838bc"
      },
      "source": [
        "tweet.split()"
      ],
      "execution_count": null,
      "outputs": [
        {
          "output_type": "execute_result",
          "data": {
            "text/plain": [
              "['Curso', 'AVD', 'Python!', '#MejorCurso']"
            ]
          },
          "metadata": {
            "tags": []
          },
          "execution_count": 100
        }
      ]
    },
    {
      "cell_type": "code",
      "metadata": {
        "id": "AlC4gqSeDclp",
        "colab": {
          "base_uri": "https://localhost:8080/"
        },
        "outputId": "76613c65-c115-4fab-b227-cd8ab9c74974"
      },
      "source": [
        "tweet.split('#')"
      ],
      "execution_count": null,
      "outputs": [
        {
          "output_type": "execute_result",
          "data": {
            "text/plain": [
              "['Curso AVD Python! ', 'MejorCurso']"
            ]
          },
          "metadata": {
            "tags": []
          },
          "execution_count": 102
        }
      ]
    },
    {
      "cell_type": "code",
      "metadata": {
        "id": "Q-CE4dkLDclp",
        "colab": {
          "base_uri": "https://localhost:8080/",
          "height": 35
        },
        "outputId": "fb00f831-d245-4c08-dbfa-4bef6ed501f2"
      },
      "source": [
        "tweet.split('#')[1]"
      ],
      "execution_count": null,
      "outputs": [
        {
          "output_type": "execute_result",
          "data": {
            "application/vnd.google.colaboratory.intrinsic+json": {
              "type": "string"
            },
            "text/plain": [
              "'MejorCurso'"
            ]
          },
          "metadata": {
            "tags": []
          },
          "execution_count": 103
        }
      ]
    },
    {
      "cell_type": "code",
      "metadata": {
        "id": "eY7CMHCZDclp"
      },
      "source": [
        "d = {'k1':10, 'k2':20, 'k3':1, 'k4': 'hola'}"
      ],
      "execution_count": null,
      "outputs": []
    },
    {
      "cell_type": "code",
      "metadata": {
        "id": "V1GKByMgDclp",
        "colab": {
          "base_uri": "https://localhost:8080/"
        },
        "outputId": "42856c62-d54f-4fab-d485-e3bfd9bab63f"
      },
      "source": [
        "d.keys()"
      ],
      "execution_count": null,
      "outputs": [
        {
          "output_type": "execute_result",
          "data": {
            "text/plain": [
              "dict_keys(['k1', 'k2', 'k3', 'k4'])"
            ]
          },
          "metadata": {
            "tags": []
          },
          "execution_count": 106
        }
      ]
    },
    {
      "cell_type": "code",
      "metadata": {
        "id": "lcm40SSyDclq",
        "colab": {
          "base_uri": "https://localhost:8080/"
        },
        "outputId": "d38d6a94-86d3-4722-bb9a-e48262e0e04c"
      },
      "source": [
        "d.items()"
      ],
      "execution_count": null,
      "outputs": [
        {
          "output_type": "execute_result",
          "data": {
            "text/plain": [
              "dict_items([('k1', 10), ('k2', 20), ('k3', 1), ('k4', 'hola')])"
            ]
          },
          "metadata": {
            "tags": []
          },
          "execution_count": 108
        }
      ]
    },
    {
      "cell_type": "code",
      "metadata": {
        "id": "ZT_4OCJxDclq",
        "colab": {
          "base_uri": "https://localhost:8080/"
        },
        "outputId": "f74fda7c-e837-486f-a441-2a4489a51a6e"
      },
      "source": [
        "d.values()"
      ],
      "execution_count": null,
      "outputs": [
        {
          "output_type": "execute_result",
          "data": {
            "text/plain": [
              "dict_values([10, 20, 1, 'hola'])"
            ]
          },
          "metadata": {
            "tags": []
          },
          "execution_count": 109
        }
      ]
    },
    {
      "cell_type": "code",
      "metadata": {
        "id": "y7NUhVwgDclr"
      },
      "source": [
        "lst = [1,2,3,4,5,6]"
      ],
      "execution_count": null,
      "outputs": []
    },
    {
      "cell_type": "code",
      "metadata": {
        "id": "VUcZxMgbDcls",
        "colab": {
          "base_uri": "https://localhost:8080/"
        },
        "outputId": "26af5cde-cf73-42e1-98b8-5cbbcdb73a68"
      },
      "source": [
        "lst.pop()"
      ],
      "execution_count": null,
      "outputs": [
        {
          "output_type": "execute_result",
          "data": {
            "text/plain": [
              "6"
            ]
          },
          "metadata": {
            "tags": []
          },
          "execution_count": 114
        }
      ]
    },
    {
      "cell_type": "code",
      "metadata": {
        "id": "sZY9FGwxDclt",
        "colab": {
          "base_uri": "https://localhost:8080/"
        },
        "outputId": "e1674ddd-399e-418b-8376-49339b70592c"
      },
      "source": [
        "lst"
      ],
      "execution_count": null,
      "outputs": [
        {
          "output_type": "execute_result",
          "data": {
            "text/plain": [
              "[1, 2, 3, 4, 5]"
            ]
          },
          "metadata": {
            "tags": []
          },
          "execution_count": 115
        }
      ]
    },
    {
      "cell_type": "code",
      "metadata": {
        "id": "vErqP6UqDclt"
      },
      "source": [
        "item = lst.pop()"
      ],
      "execution_count": null,
      "outputs": []
    },
    {
      "cell_type": "code",
      "metadata": {
        "id": "RJbwXr_nDclu",
        "colab": {
          "base_uri": "https://localhost:8080/"
        },
        "outputId": "7899986b-9120-4a55-a7c5-47e9731af187"
      },
      "source": [
        "lst"
      ],
      "execution_count": null,
      "outputs": [
        {
          "output_type": "execute_result",
          "data": {
            "text/plain": [
              "[1, 2, 3, 4]"
            ]
          },
          "metadata": {
            "tags": []
          },
          "execution_count": 117
        }
      ]
    },
    {
      "cell_type": "code",
      "metadata": {
        "id": "FEAFErCDDclv",
        "colab": {
          "base_uri": "https://localhost:8080/"
        },
        "outputId": "c377cfa7-d79c-4631-9302-ce3fbf314647"
      },
      "source": [
        "item"
      ],
      "execution_count": null,
      "outputs": [
        {
          "output_type": "execute_result",
          "data": {
            "text/plain": [
              "5"
            ]
          },
          "metadata": {
            "tags": []
          },
          "execution_count": 118
        }
      ]
    },
    {
      "cell_type": "code",
      "metadata": {
        "id": "9K7VmD2_Dclv"
      },
      "source": [
        "primero = lst.pop(0)"
      ],
      "execution_count": null,
      "outputs": []
    },
    {
      "cell_type": "code",
      "metadata": {
        "id": "jDETv3LjDclw",
        "colab": {
          "base_uri": "https://localhost:8080/"
        },
        "outputId": "68d482fe-8f07-4842-977d-4e024849a064"
      },
      "source": [
        "primero"
      ],
      "execution_count": null,
      "outputs": [
        {
          "output_type": "execute_result",
          "data": {
            "text/plain": [
              "1"
            ]
          },
          "metadata": {
            "tags": []
          },
          "execution_count": 120
        }
      ]
    },
    {
      "cell_type": "code",
      "metadata": {
        "id": "PQwNS9OuDclx",
        "colab": {
          "base_uri": "https://localhost:8080/"
        },
        "outputId": "1e74bccd-657d-4d15-f805-41c69745e5aa"
      },
      "source": [
        "lst"
      ],
      "execution_count": null,
      "outputs": [
        {
          "output_type": "execute_result",
          "data": {
            "text/plain": [
              "[2, 3, 4]"
            ]
          },
          "metadata": {
            "tags": []
          },
          "execution_count": 121
        }
      ]
    },
    {
      "cell_type": "code",
      "metadata": {
        "id": "QyAhDsQsDclx"
      },
      "source": [
        "lst.append('NUEVO')"
      ],
      "execution_count": null,
      "outputs": []
    },
    {
      "cell_type": "code",
      "metadata": {
        "id": "SNZgv4OpDclx",
        "colab": {
          "base_uri": "https://localhost:8080/"
        },
        "outputId": "85767787-e0c7-47f9-be0e-da832255864a"
      },
      "source": [
        "lst"
      ],
      "execution_count": null,
      "outputs": [
        {
          "output_type": "execute_result",
          "data": {
            "text/plain": [
              "[2, 3, 4, 'NUEVO']"
            ]
          },
          "metadata": {
            "tags": []
          },
          "execution_count": 123
        }
      ]
    },
    {
      "cell_type": "code",
      "metadata": {
        "id": "ho3_NK6ODcly",
        "colab": {
          "base_uri": "https://localhost:8080/"
        },
        "outputId": "8bbf139a-2c87-46b6-f045-e70cfa23bef5"
      },
      "source": [
        "'x' in [1,2,3]"
      ],
      "execution_count": null,
      "outputs": [
        {
          "output_type": "execute_result",
          "data": {
            "text/plain": [
              "False"
            ]
          },
          "metadata": {
            "tags": []
          },
          "execution_count": 124
        }
      ]
    },
    {
      "cell_type": "code",
      "metadata": {
        "id": "_16JiU_CDcl2",
        "colab": {
          "base_uri": "https://localhost:8080/"
        },
        "outputId": "fa53d6a4-5360-4bbb-c86b-93af311b68ad"
      },
      "source": [
        "'y' in ['x','y','z']"
      ],
      "execution_count": null,
      "outputs": [
        {
          "output_type": "execute_result",
          "data": {
            "text/plain": [
              "True"
            ]
          },
          "metadata": {
            "tags": []
          },
          "execution_count": 125
        }
      ]
    },
    {
      "cell_type": "code",
      "metadata": {
        "id": "GlcDj_bHDcl2"
      },
      "source": [
        "# Tuple unpacking\n",
        "lst = [(1, 2), (3, 4), (5, 6)]"
      ],
      "execution_count": null,
      "outputs": []
    },
    {
      "cell_type": "code",
      "metadata": {
        "id": "XmU6QzEjDcl2",
        "colab": {
          "base_uri": "https://localhost:8080/"
        },
        "outputId": "12708f0e-9672-43b5-f24e-7f40860da1f1"
      },
      "source": [
        "lst"
      ],
      "execution_count": null,
      "outputs": [
        {
          "output_type": "execute_result",
          "data": {
            "text/plain": [
              "[(1, 2), (3, 4), (5, 6)]"
            ]
          },
          "metadata": {
            "tags": []
          },
          "execution_count": 127
        }
      ]
    },
    {
      "cell_type": "code",
      "metadata": {
        "id": "p8qqIm_4Dcl2",
        "colab": {
          "base_uri": "https://localhost:8080/"
        },
        "outputId": "4b15ba9d-eb3d-4f66-dc72-6a289c07c0c8"
      },
      "source": [
        "for tupla in lst:\n",
        "    print(tupla)"
      ],
      "execution_count": null,
      "outputs": [
        {
          "output_type": "stream",
          "text": [
            "(1, 2)\n",
            "(3, 4)\n",
            "(5, 6)\n"
          ],
          "name": "stdout"
        }
      ]
    },
    {
      "cell_type": "code",
      "metadata": {
        "id": "uuq_QEWADcl3",
        "colab": {
          "base_uri": "https://localhost:8080/"
        },
        "outputId": "f367c590-dd2d-45b8-b3b9-fe9fc2f8d1c6"
      },
      "source": [
        "for (a, b) in lst:\n",
        "    print(a)"
      ],
      "execution_count": null,
      "outputs": [
        {
          "output_type": "stream",
          "text": [
            "1\n",
            "3\n",
            "5\n"
          ],
          "name": "stdout"
        }
      ]
    },
    {
      "cell_type": "code",
      "metadata": {
        "id": "HYmNZec7Dcl3",
        "colab": {
          "base_uri": "https://localhost:8080/"
        },
        "outputId": "448accfd-7d9c-46cb-c7bc-5534c1d46f83"
      },
      "source": [
        "for (a, b) in lst:\n",
        "    print('{} está asociado con {}'.format(a,b))"
      ],
      "execution_count": null,
      "outputs": [
        {
          "output_type": "stream",
          "text": [
            "1 está asociado con 2\n",
            "3 está asociado con 4\n",
            "5 está asociado con 6\n"
          ],
          "name": "stdout"
        }
      ]
    },
    {
      "cell_type": "code",
      "metadata": {
        "id": "qOwO-InzDcl4",
        "colab": {
          "base_uri": "https://localhost:8080/"
        },
        "outputId": "b3b5949a-222a-4145-b936-89d0cc7433c4"
      },
      "source": [
        "# los paréntesis son opcionales\n",
        "for a, b in lst:\n",
        "    print('{} está asociado con {}'.format(a,b))"
      ],
      "execution_count": null,
      "outputs": [
        {
          "output_type": "stream",
          "text": [
            "1 está asociado con 2\n",
            "3 está asociado con 4\n",
            "5 está asociado con 6\n"
          ],
          "name": "stdout"
        }
      ]
    },
    {
      "cell_type": "markdown",
      "metadata": {
        "id": "e0I1us8AtyVp"
      },
      "source": [
        "## Quiz Operadores"
      ]
    },
    {
      "cell_type": "markdown",
      "metadata": {
        "id": "P5gjuBL2uwQ5"
      },
      "source": [
        "### Genere una lista con los primeros 4 elementos de la serie geométrica \n",
        "$$ s_n = \\frac{1}{2^{n+1}}, n=\\{0,1,2,3\\} $$\n",
        "$$ s_n = \\sum_{n=0}^{4} \\frac{1}{2^{n+1}} = \\frac{1}{2} + \\frac{1}{4} + \\frac{1}{8} + \\frac{1}{16} = 0.9375$$"
      ]
    },
    {
      "cell_type": "markdown",
      "metadata": {
        "id": "A2blUud1MoA-"
      },
      "source": [
        "Modifique la función gen_serie() para que retorne los primeros 4 elementos de la serie."
      ]
    },
    {
      "cell_type": "code",
      "metadata": {
        "id": "GVoibZrHFpLN"
      },
      "source": [
        "\n",
        "def gen_serie():\n",
        "  \"\"\"\n",
        "  Retorna:\n",
        "     Lista con los primeros 4 elementos de la serie\n",
        "  \"\"\"\n",
        "  # en la siguiente línea genere la lista l con los primero 4 elementos requeridos.\n",
        "  l = [1/(2**(n+1)) for n in range(0,4)]\n",
        "  return l\n",
        "  \n"
      ],
      "execution_count": null,
      "outputs": []
    },
    {
      "cell_type": "code",
      "metadata": {
        "id": "Ma9eUJUjFZCq",
        "colab": {
          "base_uri": "https://localhost:8080/"
        },
        "outputId": "ace6fb25-5d31-42c4-93a6-f6a440591718"
      },
      "source": [
        "# Use esta celda para verificar que su solución sea correcta\n",
        "\n",
        "import numpy as np\n",
        "\n",
        "def test_gen_serie():\n",
        "  try:\n",
        "    serie = gen_serie()\n",
        "    serie = np.asarray(serie)\n",
        "  except:\n",
        "    raise Exception(\"Error en la función\")\n",
        "  #Validar la respuesta\n",
        "  if np.abs(serie.sum()-0.9375) > 0:\n",
        "    raise Exception(\"El calculo de los primeros 4 elementos está mal!\")\n",
        "  return True\n",
        "\n",
        "test_gen_serie()"
      ],
      "execution_count": null,
      "outputs": [
        {
          "output_type": "execute_result",
          "data": {
            "text/plain": [
              "True"
            ]
          },
          "metadata": {
            "tags": []
          },
          "execution_count": 138
        }
      ]
    },
    {
      "cell_type": "code",
      "metadata": {
        "id": "edelrBBxM9rS",
        "colab": {
          "base_uri": "https://localhost:8080/"
        },
        "outputId": "ed4f7772-7632-4fac-e536-dfd3595ed55c"
      },
      "source": [
        "gen_serie()"
      ],
      "execution_count": null,
      "outputs": [
        {
          "output_type": "execute_result",
          "data": {
            "text/plain": [
              "[0.5, 0.25, 0.125, 0.0625]"
            ]
          },
          "metadata": {
            "tags": []
          },
          "execution_count": 139
        }
      ]
    },
    {
      "cell_type": "code",
      "metadata": {
        "id": "OZkyFwlwWMaw"
      },
      "source": [
        ""
      ],
      "execution_count": null,
      "outputs": []
    }
  ]
}